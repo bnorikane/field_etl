{
 "cells": [
  {
   "cell_type": "markdown",
   "id": "3dd1ac9e-0cc1-4244-9dfc-56da05c2b99a",
   "metadata": {},
   "source": [
    "# Boulder Precinct Choropleth Map ETL\n",
    "    \n",
    "Create data files required for a choropleth map showing values by Boulder precincts.\n",
    "- Transform the input data to GeoJson files compatible with Folium and Leaflet maps\n",
    "- Save precinct geometry GeoJson files that  Folium Choropleth() can read as geometry\n",
    "    - GeoJson Feature Collection with Feature id=precinct_name\n",
    "- Started: August 10, 2022\n",
    "- Updated: December 16, 2024\n",
    "\n",
    "## Input Files\n",
    "\n",
    "- Boulder County Precincts\n",
    "    - Shape files downloaded from Boulder County on December 15, 2024\n",
    "    - https://opendata-bouldercounty.hub.arcgis.com/datasets/c8e2897d283b47f780920af0827d5126_0/explore?location=40.086460%2C-105.373100%2C10.51\n",
    "\n",
    "## Output Files\n",
    "\n",
    "GeoJson files for Folium Choropleth maps\n",
    "- Boulder Precinct geometry\n",
    "\n",
    "## Issues\n",
    "- Folium.Choropleth() is very picky about the data in the geometry file\n",
    "    - needs feature_id=precinct_name to merge choropleth data layers\n"
   ]
  },
  {
   "cell_type": "code",
   "execution_count": 1,
   "id": "9b66485f-7f6d-4d5f-bfca-3ef066a25931",
   "metadata": {
    "tags": []
   },
   "outputs": [],
   "source": [
    "import pandas as pd\n",
    "import geopandas as gpd\n",
    "import folium"
   ]
  },
  {
   "cell_type": "markdown",
   "id": "57440289-839b-48bb-b876-7308d25c19c2",
   "metadata": {
    "tags": []
   },
   "source": [
    "### Precincts - Boulder County Precinct Boundaries"
   ]
  },
  {
   "cell_type": "code",
   "execution_count": null,
   "id": "f713f5de-fea1-4afb-b88d-3b0d2f27171b",
   "metadata": {
    "tags": []
   },
   "outputs": [],
   "source": [
    "pctgdf = gpd.read_file('data/pct/Precincts.shp', columns=['PRECINCT','geometry'])\n",
    "pctgdf = pctgdf.rename(columns={'PRECINCT':'precinct'})\n",
    "pctgdf['precinct'] = pctgdf['precinct'].astype('int64')\n",
    "\n",
    "# convert crs to WGS 84, ESPG:4326\n",
    "pctgdf.to_crs(4326, inplace=True)\n",
    "pctgdf.info()"
   ]
  },
  {
   "cell_type": "code",
   "execution_count": null,
   "id": "1fe72dc2",
   "metadata": {},
   "outputs": [],
   "source": [
    "pctgdf.head(4)"
   ]
  },
  {
   "cell_type": "code",
   "execution_count": null,
   "id": "da3860d3",
   "metadata": {},
   "outputs": [],
   "source": [
    "pctjson = pctgdf.to_json(drop_id=True)\n",
    "# print(pctjson)\n",
    "pctjson"
   ]
  },
  {
   "cell_type": "code",
   "execution_count": null,
   "id": "788e7558",
   "metadata": {},
   "outputs": [],
   "source": [
    "# get election votes results data\n",
    "pres = pd.read_csv('data/election_results/election_results_2024_president_boulder.csv')\n",
    "pres.info()"
   ]
  },
  {
   "cell_type": "code",
   "execution_count": null,
   "id": "6bab080e",
   "metadata": {},
   "outputs": [],
   "source": [
    "# get turnout data\n",
    "turnout = pd.read_csv('data/election_results/Vote Data Results Active Only(Precinct).csv', dtype=str)\n",
    "turnout = turnout[['Precinct - Full', 'Target 92+ Voted %']]\n",
    "turnout.info()\n",
    "turnout.head(4)"
   ]
  },
  {
   "cell_type": "markdown",
   "id": "b647a504",
   "metadata": {},
   "source": [
    "##  PREFERRED METHOD TO CREATE FOLIUM CHOROPLETH LAYER\n",
    "\n",
    "### Create choropleth layer with gdf for geometry and df for data\n",
    "```\n",
    "folium.Choropleth(\n",
    "    geo_data = <geodataframe>,\n",
    "    key_on = 'feature.properties.<geodata_key>', # defines key column in 'geo_data'\n",
    "    data = <dataframe>,\n",
    "    columns = ['<dataframe_key>', '<dataframe_column>'], # columns[0], dataframe_key, defines key column in 'data'\n",
    "    fill_color = \"YlGn\",\n",
    "    fill_opacity = 0.7,\n",
    "    line_opacity = 0.2,\n",
    "    name = '<layer_name>',\n",
    "    legend_name = '<legend_name>'\n",
    ")\n",
    "\n",
    "```"
   ]
  },
  {
   "cell_type": "code",
   "execution_count": null,
   "id": "0c2002e3",
   "metadata": {},
   "outputs": [],
   "source": [
    "#########   PREFERRED METHOD GeoDataFrame + DataFrame   #####################\n",
    "# Create Choropleth layer showing Dem votes for President\n",
    "# use GeoDataFrame for geometry\n",
    "# use pres dataframe for data\n",
    "# NOTE: preliminary voting results\n",
    "\n",
    "folium.Choropleth(\n",
    "    geo_data=pctgdf,\n",
    "    key_on=\"feature.properties.precinct\",\n",
    "    data=pres,\n",
    "    columns=[\"precinct_name\", \"dem_votes_pres\"],\n",
    "    fill_color=\"YlGn\",\n",
    "    fill_opacity=0.7,\n",
    "    line_opacity=0.2,\n",
    "    legend_name=\"Dem Votes for President\",\n",
    "    name=\"Presidential Dem Votes\",\n",
    ").add_to(m)\n",
    "\n",
    "folium.LayerControl().add_to(m)\n",
    "\n",
    "# Display the Choropleth\n",
    "m"
   ]
  },
  {
   "cell_type": "code",
   "execution_count": null,
   "id": "28c6066a",
   "metadata": {},
   "outputs": [],
   "source": [
    "# Create Choropleth layer showing Dem Margin for President\n",
    "# NOTE: preliminary voting results\n",
    "\n",
    "folium.Choropleth(\n",
    "    geo_data=pctjson,\n",
    "    name=\"Presidential Dem Margin\",\n",
    "    data=pres,\n",
    "    columns=[\"precinct_name\", \"dem_margin_pres\"],\n",
    "    key_on=\"feature.properties.precinct\",\n",
    "    fill_color=\"YlGn\",\n",
    "    fill_opacity=0.7,\n",
    "    line_opacity=0.2,\n",
    "    legend_name=\"Dem Margin for President\",\n",
    ").add_to(m)\n",
    "\n",
    "folium.LayerControl().add_to(m)\n",
    "\n",
    "# Display the Choropleth\n",
    "m"
   ]
  },
  {
   "cell_type": "code",
   "execution_count": null,
   "id": "636697d6",
   "metadata": {},
   "outputs": [],
   "source": [
    "##################   ALTERNATIVE METHOD THAT MIMICS EXAMPLES IN FOLIUM DOCUMENTATION  ##########\n",
    "# use GeoJson string for geometry\n",
    "# use pres dataframe for data\n",
    "# NOTE: preliminary voting results\n",
    "\n",
    "# Create basemap layer that shows Boulder County\n",
    "m = folium.Map(tiles='cartodb positron', location=(40.1, -105.3), zoom_level=10)\n",
    "\n",
    "# Create Choropleth layer showing Dem votes for President\n",
    "folium.Choropleth(\n",
    "    geo_data=pctjson,\n",
    "    name=\"Presidential Dem Votes\",\n",
    "    data=pres,\n",
    "    columns=[\"precinct_name\", \"dem_votes_pres\"],\n",
    "    key_on=\"feature.properties.precinct\",\n",
    "    fill_color=\"YlGn\",\n",
    "    fill_opacity=0.7,\n",
    "    line_opacity=0.2,\n",
    "    legend_name=\"Dem Votes for President\",\n",
    ").add_to(m)\n",
    "\n",
    "folium.LayerControl().add_to(m)\n",
    "\n",
    "# Display the Choropleth\n",
    "m"
   ]
  },
  {
   "cell_type": "markdown",
   "id": "14042d38",
   "metadata": {},
   "source": [
    "########  Try with final data from Geoff  ###########\n",
    "\n",
    "Needs a lot of data cleaning"
   ]
  },
  {
   "cell_type": "code",
   "execution_count": null,
   "id": "0655932f",
   "metadata": {},
   "outputs": [],
   "source": [
    "# Create Target 92+ Turnout% choropleth map from Geoff's data\n",
    "# NOTE:  needs data cleaning\n",
    "#           % strings to numeric\n",
    "#           Precinct - Full to int64\n",
    "\n",
    "mturnout = folium.Map(tiles='cartodb positron', location=(40.1, -105.3), zoom_level=10)\n",
    "\n",
    "# Create Choropleth layer showing Dem votes for President\n",
    "\n",
    "\n",
    "folium.Choropleth(\n",
    "    geo_data=pctgdf,\n",
    "    name=\"Target 92+ Turnout%\",\n",
    "    data=turnout,\n",
    "    columns=[\"Precinct - Full\", \"Target 92+ Voted %\"],\n",
    "    key_on=\"feature.properties.precinct\",\n",
    "    fill_color=\"YlGn\",\n",
    "    fill_opacity=0.7,\n",
    "    line_opacity=0.2,\n",
    "    legend_name=\"Target 92+ Turnout\",\n",
    ").add_to(mturnout)\n",
    "\n",
    "folium.LayerControl().add_to(mturnout)\n",
    "\n",
    "# Display the Choropleth\n",
    "mturnout"
   ]
  }
 ],
 "metadata": {
  "kernelspec": {
   "display_name": "geojupy",
   "language": "python",
   "name": "python3"
  },
  "language_info": {
   "codemirror_mode": {
    "name": "ipython",
    "version": 3
   },
   "file_extension": ".py",
   "mimetype": "text/x-python",
   "name": "python",
   "nbconvert_exporter": "python",
   "pygments_lexer": "ipython3",
   "version": "3.12.5"
  }
 },
 "nbformat": 4,
 "nbformat_minor": 5
}
