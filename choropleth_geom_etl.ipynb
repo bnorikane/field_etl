{
 "cells": [
  {
   "cell_type": "markdown",
   "id": "3dd1ac9e-0cc1-4244-9dfc-56da05c2b99a",
   "metadata": {},
   "source": [
    "# Boulder Precinct Choropleth Map ETL\n",
    "    \n",
    "Create data files required for a choropleth map showing values by Boulder precincts.\n",
    "- Transform the input data to GeoJson files compatible with Folium and Leaflet maps\n",
    "- Save precinct geometry GeoJson files that  Folium Choropleth() can read as geometry\n",
    "    - GeoJson Feature Collection with Feature id=precinct_name\n",
    "- Started: August 10, 2022\n",
    "- Updated: December 16, 2024\n"
   ]
  },
  {
   "cell_type": "markdown",
   "id": "f5081865-094a-4a1d-be31-19a500df2b22",
   "metadata": {},
   "source": [
    "## Input Files\n",
    "\n",
    "- Boulder County Precincts\n",
    "    - Shape files downloaded from Boulder County on December 15, 2024\n",
    "    - https://opendata-bouldercounty.hub.arcgis.com/datasets/c8e2897d283b47f780920af0827d5126_0/explore?location=40.086460%2C-105.373100%2C10.51\n",
    "\n",
    "## Output Files\n",
    "\n",
    "GeoJson files for Folium Choropleth maps\n",
    "- Boulder Precinct geometry\n",
    "\n",
    "## Issues\n",
    "- Folium.Choropleth() is very picky about the data in the geometry file\n",
    "    - needs feature_id=precinct_name to merge choropleth data layers"
   ]
  },
  {
   "cell_type": "code",
   "execution_count": 1,
   "id": "9b66485f-7f6d-4d5f-bfca-3ef066a25931",
   "metadata": {
    "tags": []
   },
   "outputs": [],
   "source": [
    "import pandas as pd\n",
    "import geopandas as gpd\n",
    "import fiona"
   ]
  },
  {
   "cell_type": "markdown",
   "id": "57440289-839b-48bb-b876-7308d25c19c2",
   "metadata": {
    "tags": []
   },
   "source": [
    "### Precincts - Boulder County Precinct Boundaries"
   ]
  },
  {
   "cell_type": "code",
   "execution_count": 36,
   "id": "f713f5de-fea1-4afb-b88d-3b0d2f27171b",
   "metadata": {
    "tags": []
   },
   "outputs": [],
   "source": [
    "precincts = gpd.read_file('data/pct/precinct_map.shp')"
   ]
  },
  {
   "cell_type": "code",
   "execution_count": null,
   "id": "4402514e-b45b-40de-be10-3b7cc35176b6",
   "metadata": {
    "tags": []
   },
   "outputs": [],
   "source": [
    "precincts.crs"
   ]
  },
  {
   "cell_type": "code",
   "execution_count": null,
   "id": "079d3956-bd02-4c8f-bfac-a7884924d26f",
   "metadata": {
    "tags": []
   },
   "outputs": [],
   "source": [
    "precincts.info()"
   ]
  },
  {
   "cell_type": "code",
   "execution_count": null,
   "id": "1fe72dc2",
   "metadata": {},
   "outputs": [],
   "source": [
    "precincts.head(4)"
   ]
  },
  {
   "cell_type": "code",
   "execution_count": 38,
   "id": "22a2cd5e-a8dc-4751-a574-519d456cfb95",
   "metadata": {
    "tags": []
   },
   "outputs": [],
   "source": [
    "# precincts['pct'] = precincts.PRECINCT.str[-3:]"
   ]
  },
  {
   "cell_type": "code",
   "execution_count": 39,
   "id": "a1532dfd-edc9-4822-9271-f259d452cf99",
   "metadata": {},
   "outputs": [],
   "source": [
    "# precincts.set_index('pct', inplace=True)"
   ]
  },
  {
   "cell_type": "code",
   "execution_count": null,
   "id": "33582887-16b2-4305-906f-b25df25e6b9f",
   "metadata": {},
   "outputs": [],
   "source": [
    "# precincts.head()"
   ]
  },
  {
   "cell_type": "code",
   "execution_count": 40,
   "id": "f99924a6-99c1-44d4-a5f7-3abe40af727c",
   "metadata": {
    "tags": []
   },
   "outputs": [],
   "source": [
    "precincts = precincts[['DISTRICT','PCT','geometry']]\n",
    "precincts.rename(columns={'DISTRICT':'precinct_name','PCT': 'precinct'}, inplace=True)"
   ]
  },
  {
   "cell_type": "code",
   "execution_count": null,
   "id": "f0850367-9825-4ec4-bd0c-e9daeece74a0",
   "metadata": {},
   "outputs": [],
   "source": [
    "precincts.head(4)"
   ]
  },
  {
   "cell_type": "code",
   "execution_count": null,
   "id": "8daef345-0aab-4487-b469-e72fd6dbc807",
   "metadata": {},
   "outputs": [],
   "source": [
    "precincts = precincts.astype({'precinct':'str'}, copy=True)\n",
    "precincts['precinct'] = precincts['precinct'].str.zfill(3)\n",
    "# df['ID'] = df['ID'].str.zfill(15)\n",
    "precinct_names = precincts.set_index('precinct_name')\n",
    "\n",
    "precinct_names.head(4)"
   ]
  },
  {
   "cell_type": "code",
   "execution_count": null,
   "id": "f858538e-2ee6-4b60-b076-db35bb0a649d",
   "metadata": {},
   "outputs": [],
   "source": [
    "precinct_names.info()"
   ]
  },
  {
   "cell_type": "code",
   "execution_count": null,
   "id": "41c92261-f416-4e81-aee0-3accb7323a1a",
   "metadata": {},
   "outputs": [],
   "source": [
    "precinct_names.sort_values('precinct').head()"
   ]
  },
  {
   "cell_type": "code",
   "execution_count": 46,
   "id": "77e640a5-729d-485f-b6c6-d259bc73bb7b",
   "metadata": {},
   "outputs": [],
   "source": [
    "precincts.to_file('output/pct_boulder.geojson', driver='GeoJSON')"
   ]
  }
 ],
 "metadata": {
  "kernelspec": {
   "display_name": "geojupy",
   "language": "python",
   "name": "python3"
  },
  "language_info": {
   "codemirror_mode": {
    "name": "ipython",
    "version": 3
   },
   "file_extension": ".py",
   "mimetype": "text/x-python",
   "name": "python",
   "nbconvert_exporter": "python",
   "pygments_lexer": "ipython3",
   "version": "3.12.5"
  }
 },
 "nbformat": 4,
 "nbformat_minor": 5
}
