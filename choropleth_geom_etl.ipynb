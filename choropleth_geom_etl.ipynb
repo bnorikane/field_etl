{
 "cells": [
  {
   "cell_type": "markdown",
   "id": "3dd1ac9e-0cc1-4244-9dfc-56da05c2b99a",
   "metadata": {},
   "source": [
    "# Boulder Precinct Choropleth Map ETL\n",
    "    \n",
    "Create data files required for a choropleth map showing values by Boulder precincts.\n",
    "- Transform the input data to file formats compatible with Folium choropleth and Leaflet maps\n",
    "- Save precinct geometry files that  Folium Choropleth() can read as geometry\n",
    "    - GeoJson Feature Collection with Feature id=precinct_name\n",
    "- Started: August 10, 2022\n",
    "- Updated: December 16, 2024\n",
    "\n",
    "##  PREFERRED METHOD TO CREATE FOLIUM CHOROPLETH LAYER\n",
    "\n",
    "### Create choropleth layer with gdf for geometry and df for data\n",
    "```\n",
    "folium.Choropleth(\n",
    "    geo_data = <geodataframe>,\n",
    "    key_on = 'feature.properties.<geodata_key>', # defines key column in 'geo_data'\n",
    "    data = <dataframe>,\n",
    "    columns = ['<dataframe_key>', '<dataframe_column>'], # columns[0], dataframe_key, defines key column in 'data'\n",
    "    fill_color = \"YlGn\",\n",
    "    fill_opacity = 0.7,\n",
    "    line_opacity = 0.2,\n",
    "    name = '<layer_name>',\n",
    "    legend_name = '<legend_name>'\n",
    ")\n",
    "\n",
    "```\n",
    "\n",
    "## Input Files\n",
    "\n",
    "- Boulder County Precincts\n",
    "    - Source of Truth: Shape files downloaded from Boulder County on December 15, 2024\n",
    "    - https://opendata-bouldercounty.hub.arcgis.com/datasets/c8e2897d283b47f780920af0827d5126_0/explore?location=40.086460%2C-105.373100%2C10.51\n",
    "\n",
    "## Output Files\n",
    "\n",
    "Leaflet map file with choropleth layer:\n",
    "\n",
    "## Issues\n",
    "- Folium.Choropleth does not show tooltips or popups.\n",
    "- Folium.Choropleth() is very picky about the data in the geometry file\n",
    "    - needs feature_id=precinct_name to merge choropleth data layers\n"
   ]
  },
  {
   "cell_type": "code",
   "execution_count": 1,
   "id": "9b66485f-7f6d-4d5f-bfca-3ef066a25931",
   "metadata": {
    "tags": []
   },
   "outputs": [],
   "source": [
    "import pandas as pd\n",
    "import geopandas as gpd\n",
    "import folium"
   ]
  },
  {
   "cell_type": "markdown",
   "id": "57440289-839b-48bb-b876-7308d25c19c2",
   "metadata": {
    "tags": []
   },
   "source": [
    "### Precincts - Boulder County Precinct Boundaries"
   ]
  },
  {
   "cell_type": "code",
   "execution_count": null,
   "id": "f713f5de-fea1-4afb-b88d-3b0d2f27171b",
   "metadata": {
    "tags": []
   },
   "outputs": [],
   "source": [
    "pctgdf = gpd.read_file('data/pct/Precincts.shp', columns=['PRECINCT','geometry'])\n",
    "pctgdf = pctgdf.rename(columns={'PRECINCT':'precinct'})\n",
    "pctgdf['precinct'] = pctgdf['precinct'].astype('int64')\n",
    "\n",
    "# convert crs to WGS 84, ESPG:4326\n",
    "pctgdf.to_crs(4326, inplace=True)\n",
    "pctgdf.info()"
   ]
  },
  {
   "cell_type": "code",
   "execution_count": null,
   "id": "1fe72dc2",
   "metadata": {},
   "outputs": [],
   "source": [
    "pctgdf.head(4)"
   ]
  },
  {
   "cell_type": "markdown",
   "id": "a3946635",
   "metadata": {},
   "source": [
    "## ETL Election results by precinct data\n",
    "\n",
    "Create dataframe with rows of precincts and results in columns\n",
    "For Folium Choropleth()\n",
    "- Create a column named \"precinct_name\"\n",
    "\n",
    "### Election result value columns\n",
    "- Turnout by precinct\n",
    "- Votes by precinct\n",
    "-   "
   ]
  },
  {
   "cell_type": "code",
   "execution_count": null,
   "id": "788e7558",
   "metadata": {},
   "outputs": [],
   "source": [
    "# get election votes results data\n",
    "pres = pd.read_csv('data/election_results/election_results_2024_president_boulder.csv')\n",
    "pres.info()"
   ]
  },
  {
   "cell_type": "code",
   "execution_count": null,
   "id": "6bab080e",
   "metadata": {},
   "outputs": [],
   "source": [
    "# get turnout data\n",
    "turnout = pd.read_csv('data/election_results/Vote Data Results Active Only(Precinct).csv', dtype=str)\n",
    "turnout = turnout[['Precinct - Full', 'Target 92+ Voted %']]\n",
    "turnout.info()\n",
    "turnout.head(4)"
   ]
  },
  {
   "cell_type": "code",
   "execution_count": null,
   "id": "0c2002e3",
   "metadata": {},
   "outputs": [],
   "source": [
    "#########   CHOROPLETH MAP PREFERRED METHOD GeoDataFrame + DataFrame   #####################\n",
    "# Create Choropleth layer showing Dem votes for President\n",
    "# use GeoDataFrame for geometry\n",
    "# use pres dataframe for data\n",
    "# NOTE: preliminary voting results\n",
    "\n",
    "# Create basemap layer that shows Boulder County\n",
    "m = folium.Map(tiles='cartodb positron', location=(40.1, -105.3), zoom_level=10)\n",
    "\n",
    "folium.Choropleth(\n",
    "    geo_data=pctgdf,\n",
    "    key_on=\"feature.properties.precinct\",\n",
    "    data=pres,\n",
    "    highlight=True,\n",
    "    columns=[\"precinct_name\", \"dem_votes_pres\"],\n",
    "    tooltip = 'tooltip',\n",
    "    popup = 'popup',\n",
    "    fill_color=\"YlGn\",\n",
    "    fill_opacity=0.7,\n",
    "    line_opacity=0.2,\n",
    "    legend_name=\"Dem Votes for President\",\n",
    "    name=\"Presidential Dem Votes\",\n",
    ").add_to(m)\n",
    "\n",
    "folium.LayerControl().add_to(m)\n",
    "\n",
    "m.save('dem_votes_pres.html')\n",
    "\n",
    "# Display the Choropleth\n",
    "m"
   ]
  },
  {
   "cell_type": "code",
   "execution_count": null,
   "id": "28c6066a",
   "metadata": {},
   "outputs": [],
   "source": [
    "# Create Choropleth map showing Dem Margin for President\n",
    "# NOTE: preliminary voting results\n",
    "\n",
    "# Create basemap layer that shows Boulder County\n",
    "m = folium.Map(tiles='cartodb positron', location=(40.1, -105.3), zoom_level=10)\n",
    "\n",
    "folium.Choropleth(\n",
    "    geo_data=pctgdf,\n",
    "    name=\"Presidential Dem Margin\",\n",
    "    data=pres,\n",
    "    columns=[\"precinct_name\", \"dem_margin_pres\"],\n",
    "    key_on=\"feature.properties.precinct\",\n",
    "    highlight=True,\n",
    "    fill_color=\"YlGn\",\n",
    "    fill_opacity=0.7,\n",
    "    line_opacity=0.2,\n",
    "    legend_name=\"Dem Margin for President\",\n",
    ").add_to(m)\n",
    "\n",
    "folium.LayerControl().add_to(m)\n",
    "\n",
    "m.save('dem_margin.html')\n",
    "\n",
    "# Display the Choropleth\n",
    "m"
   ]
  },
  {
   "cell_type": "markdown",
   "id": "14042d38",
   "metadata": {},
   "source": [
    "########  Try with final data from Geoff  ###########\n",
    "\n",
    "Needs a lot of data cleaning"
   ]
  }
 ],
 "metadata": {
  "kernelspec": {
   "display_name": "geojupy",
   "language": "python",
   "name": "python3"
  },
  "language_info": {
   "codemirror_mode": {
    "name": "ipython",
    "version": 3
   },
   "file_extension": ".py",
   "mimetype": "text/x-python",
   "name": "python",
   "nbconvert_exporter": "python",
   "pygments_lexer": "ipython3",
   "version": "3.12.5"
  }
 },
 "nbformat": 4,
 "nbformat_minor": 5
}
