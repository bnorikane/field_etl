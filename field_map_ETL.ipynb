{
 "cells": [
  {
   "cell_type": "markdown",
   "id": "3dd1ac9e-0cc1-4244-9dfc-56da05c2b99a",
   "metadata": {},
   "source": [
    "# BCDP Field Map Data  \n",
    "    \n",
    "Create all the data files required for a map of BCDP Field Team Areas and Boulder County Election Districts \n",
    "- This notebook reads input files from various soures\n",
    "- Transforms the input data to the columns and formats required for a Leaflet map\n",
    "- Removes districts outside of Boulder County\n",
    "- Saves files in file formats ready to be used directly in an online map\n",
    "    - GeoJSON output files for Leaflet\n",
    "    - KML files for Google Maps\n",
    "- Started: August 10, 2022\n",
    "- Updated:  \n"
   ]
  },
  {
   "cell_type": "markdown",
   "id": "afdc67e6-5f71-440c-9b96-d7cc8d17619f",
   "metadata": {},
   "source": [
    "## Issues\n",
    "\n",
    "### Plot bug - GeoPandas has plot error for some GeoDataFrames\n",
    "- STATUS: workaround found, possibly fixed in latest GeoPandas\n",
    "- WORKAROUND for plot() bug: \n",
    "    - to use .plot(), manually set aspect='equal' \n",
    "    - .plot(aspect='equal')\n",
    "\n",
    "### GeoPandas has a bug writing GeoJSON files then reading them in. \n",
    "- STATUS: fixed\n",
    "- Error description\n",
    "    - Plotting the Boulder County SD's results in a hard error\n",
    "        - Read statewide SD Shapefile\n",
    "        - drop SD's outside Boulder County\n",
    "        - sd_boulder.plot() works\n",
    "        - write Boulder SD's to GeoJSON file \n",
    "        - .geojson then reading the .geojson\n",
    "    - The bug results in a hard error when trying to plot the GeoDataFrame\n",
    "- FIX:\n",
    "    upgrade GeoPandas  and Numpy 1.21.1\n",
    "\n",
    "### Problem with shape files from Redistricting Commission\n",
    "- STATUS: fixed\n",
    "- Error Description\n",
    "    - Reading Redistricting Commission shape files then writing to geojson files, cannot be displayed in Leaflet\n",
    "    - Redistricting Commission shape files are saved planar CRS\n",
    "    - Leaflet requires WGS 84 CRS\n",
    "- FIX: \n",
    "  - After reading shape file:\n",
    "    - check crs\n",
    "    - convert gpd crs to Leaflet compatible 4326\n",
    "      - gpd.to_crs(4326)\n",
    "      - ESPG:4326 (WGS 84 long/lat)\n",
    "\n",
    "```\n",
    "sds = gpd.read_file('data/sd/2021_Approved_Senate_Plan_w_Final_Adjustments.shp')\n",
    "sd_boulder.to_file('data/sd_boulder.geojson', driver='GeoJSON')\n",
    "sd_test_geojson = gpd.read_file('data/sd_boulder.geojson', driver='GeoJSON')\n",
    "\n",
    "```\n"
   ]
  },
  {
   "cell_type": "markdown",
   "id": "70bb0b4a-cb4f-4c9b-b5f6-081691cddf43",
   "metadata": {},
   "source": [
    "## Minimum Viable Product\n",
    "- Government Districts in Boulder County\n",
    "    - Boulder County\n",
    "    - Boulder County Precincts\n",
    "    - Congressional District\n",
    "    - Colorado State Senate Districts\n",
    "    - Colorado State House Districts\n",
    "- BCDP Information\n",
    "    - Field Team Areas\n",
    "- Mapping software support\n",
    "    - Leaflet.js GeoJSON files\n",
    "    \n"
   ]
  },
  {
   "cell_type": "markdown",
   "id": "31872bd0-e907-43ff-94ae-40da94890f8f",
   "metadata": {},
   "source": [
    "## Potential Enhancements\n",
    "- Field Team Coverage and Vacancies\n",
    "    - Orphan Areas\n",
    "    - Orphan Precincts\n",
    "    - Single Precinct Organizer Vacancy\n",
    "    - Mail precincts\n",
    "- BCDP Field Team Member Data\n",
    "    - AC Names\n",
    "    - PCP Names\n",
    "- BCDP Caucus SuperSite Boundaries (list of precincts)\n",
    "- Support Google Maps with .kml files"
   ]
  },
  {
   "cell_type": "markdown",
   "id": "f5081865-094a-4a1d-be31-19a500df2b22",
   "metadata": {},
   "source": [
    "## Input Files\n",
    "- Boulder County boundary\n",
    "    - data/County_Boundary.geojson\n",
    "- SD Boundaries\n",
    "    - Colorado SD boundary shape files defined by 2021 Redistricting Commission\n",
    "        - 2021_Approved_Senate_Plan_w_Final_Adjustments.shp\n",
    "    - Alternative - read in externally created KML files\n",
    "        - Boulder County only - 3 SD's \n",
    "        - data/sd_boulder.kml\n",
    "- HD Boundaries\n",
    "    - Colorado HD boundary shape files defined by 2021 Redistricting Commission\n",
    "- Boulder County Precincts\n",
    "    - Boulder County Precincts defined by Boulder County Elections in 2022\n",
    "        - geoJSON file directly downloaded from Boulder County Open Data\n",
    "        - Final Approved 2022 precincts as of February 2022.\n",
    "        - https://opendata-bouldercounty.hub.arcgis.com/datasets/bouldercounty::precincts/about\n",
    "        - data/Precincts.geojson\n",
    "- BCDP Field Team Areas (list of precincts in each Area)\n",
    "    - Areas defined by list of precincts from BCDP Field Team\n",
    "        - bcdp/field_map/data/Precinct-Area-ODB.csv\n",
    "- CD Boundary\n",
    "    - Colorado CD boundaries defined by 2021 Redistricting Commission"
   ]
  },
  {
   "cell_type": "markdown",
   "id": "90cb8c4b-c332-4a00-95cb-d2d4321739b9",
   "metadata": {},
   "source": [
    "## Output Files\n",
    "- GeoJSON files for Leaflet.js\n",
    "    - Boulder CD boundary\n",
    "    - Boulder SD boundaries\n",
    "    - Boulder HD Boundaries\n",
    "    - Bouldery County precinct boundaries\n",
    "    - BCDP Field Team Areas\n",
    "        - list of precincts\n",
    "        - boundaries?\n",
    "    - Statewide GeoJSON files\n",
    "        - CD\n",
    "        - SD\n",
    "        - HD"
   ]
  },
  {
   "cell_type": "code",
   "execution_count": 1,
   "id": "9b66485f-7f6d-4d5f-bfca-3ef066a25931",
   "metadata": {
    "tags": []
   },
   "outputs": [],
   "source": [
    "import pandas as pd\n",
    "import geopandas as gpd\n",
    "import fiona"
   ]
  },
  {
   "cell_type": "markdown",
   "id": "8bf1c258-916e-4221-bee9-b5e2e42d1495",
   "metadata": {},
   "source": [
    "## Read Election District boundary files\n",
    "- Boulder County boundary\n",
    "- SD Boundaries\n",
    "- HD Boundaries\n",
    "- Boulder County Precincts\n",
    "- CD Boundary"
   ]
  },
  {
   "cell_type": "markdown",
   "id": "69f70e7b-9c86-47fd-9ee1-fb66b9f9073d",
   "metadata": {},
   "source": [
    "### County Boundary"
   ]
  },
  {
   "cell_type": "code",
   "execution_count": 2,
   "id": "799997da-2591-4dcc-9eec-a376a9d14831",
   "metadata": {},
   "outputs": [
    {
     "data": {
      "text/html": [
       "<div>\n",
       "<style scoped>\n",
       "    .dataframe tbody tr th:only-of-type {\n",
       "        vertical-align: middle;\n",
       "    }\n",
       "\n",
       "    .dataframe tbody tr th {\n",
       "        vertical-align: top;\n",
       "    }\n",
       "\n",
       "    .dataframe thead th {\n",
       "        text-align: right;\n",
       "    }\n",
       "</style>\n",
       "<table border=\"1\" class=\"dataframe\">\n",
       "  <thead>\n",
       "    <tr style=\"text-align: right;\">\n",
       "      <th></th>\n",
       "      <th>OBJECTID</th>\n",
       "      <th>Shapearea</th>\n",
       "      <th>Shapelen</th>\n",
       "      <th>geometry</th>\n",
       "    </tr>\n",
       "  </thead>\n",
       "  <tbody>\n",
       "    <tr>\n",
       "      <th>0</th>\n",
       "      <td>1</td>\n",
       "      <td>2.066149e+10</td>\n",
       "      <td>729879.366363</td>\n",
       "      <td>MULTIPOLYGON (((-105.23135 40.26221, -105.2333...</td>\n",
       "    </tr>\n",
       "  </tbody>\n",
       "</table>\n",
       "</div>"
      ],
      "text/plain": [
       "   OBJECTID     Shapearea       Shapelen  \\\n",
       "0         1  2.066149e+10  729879.366363   \n",
       "\n",
       "                                            geometry  \n",
       "0  MULTIPOLYGON (((-105.23135 40.26221, -105.2333...  "
      ]
     },
     "execution_count": 2,
     "metadata": {},
     "output_type": "execute_result"
    }
   ],
   "source": [
    "county = gpd.read_file('data/county/County_Boundary.geojson')\n",
    "county"
   ]
  },
  {
   "cell_type": "markdown",
   "id": "8b55fbf4-bb8e-436c-b223-e39d00355c15",
   "metadata": {},
   "source": [
    "### SD - State Senate District Boundaries"
   ]
  },
  {
   "cell_type": "code",
   "execution_count": 3,
   "id": "1590c6e2-4d3f-4177-9128-c97902cafe6e",
   "metadata": {},
   "outputs": [
    {
     "data": {
      "text/html": [
       "<div>\n",
       "<style scoped>\n",
       "    .dataframe tbody tr th:only-of-type {\n",
       "        vertical-align: middle;\n",
       "    }\n",
       "\n",
       "    .dataframe tbody tr th {\n",
       "        vertical-align: top;\n",
       "    }\n",
       "\n",
       "    .dataframe thead th {\n",
       "        text-align: right;\n",
       "    }\n",
       "</style>\n",
       "<table border=\"1\" class=\"dataframe\">\n",
       "  <thead>\n",
       "    <tr style=\"text-align: right;\">\n",
       "      <th></th>\n",
       "      <th>OBJECTID</th>\n",
       "      <th>District</th>\n",
       "      <th>Shape_Leng</th>\n",
       "      <th>Shape_Area</th>\n",
       "      <th>geometry</th>\n",
       "    </tr>\n",
       "  </thead>\n",
       "  <tbody>\n",
       "    <tr>\n",
       "      <th>0</th>\n",
       "      <td>1</td>\n",
       "      <td>1</td>\n",
       "      <td>3.080656e+06</td>\n",
       "      <td>3.564080e+11</td>\n",
       "      <td>MULTIPOLYGON (((3207254.028 1930325.957, 32072...</td>\n",
       "    </tr>\n",
       "    <tr>\n",
       "      <th>1</th>\n",
       "      <td>2</td>\n",
       "      <td>2</td>\n",
       "      <td>5.278787e+05</td>\n",
       "      <td>3.252466e+09</td>\n",
       "      <td>POLYGON ((3199359.302 1631852.221, 3199775.126...</td>\n",
       "    </tr>\n",
       "    <tr>\n",
       "      <th>2</th>\n",
       "      <td>3</td>\n",
       "      <td>3</td>\n",
       "      <td>1.099216e+06</td>\n",
       "      <td>6.685520e+10</td>\n",
       "      <td>POLYGON ((3408101.036 1254173.307, 3408401.093...</td>\n",
       "    </tr>\n",
       "    <tr>\n",
       "      <th>3</th>\n",
       "      <td>4</td>\n",
       "      <td>4</td>\n",
       "      <td>2.995556e+06</td>\n",
       "      <td>2.069199e+11</td>\n",
       "      <td>POLYGON ((3093558.228 1654047.998, 3093814.205...</td>\n",
       "    </tr>\n",
       "    <tr>\n",
       "      <th>4</th>\n",
       "      <td>5</td>\n",
       "      <td>5</td>\n",
       "      <td>3.619013e+06</td>\n",
       "      <td>2.167483e+11</td>\n",
       "      <td>POLYGON ((2545420.289 1656281.505, 2545327.69 ...</td>\n",
       "    </tr>\n",
       "  </tbody>\n",
       "</table>\n",
       "</div>"
      ],
      "text/plain": [
       "   OBJECTID  District    Shape_Leng    Shape_Area  \\\n",
       "0         1         1  3.080656e+06  3.564080e+11   \n",
       "1         2         2  5.278787e+05  3.252466e+09   \n",
       "2         3         3  1.099216e+06  6.685520e+10   \n",
       "3         4         4  2.995556e+06  2.069199e+11   \n",
       "4         5         5  3.619013e+06  2.167483e+11   \n",
       "\n",
       "                                            geometry  \n",
       "0  MULTIPOLYGON (((3207254.028 1930325.957, 32072...  \n",
       "1  POLYGON ((3199359.302 1631852.221, 3199775.126...  \n",
       "2  POLYGON ((3408101.036 1254173.307, 3408401.093...  \n",
       "3  POLYGON ((3093558.228 1654047.998, 3093814.205...  \n",
       "4  POLYGON ((2545420.289 1656281.505, 2545327.69 ...  "
      ]
     },
     "execution_count": 3,
     "metadata": {},
     "output_type": "execute_result"
    }
   ],
   "source": [
    "sds = gpd.read_file('data/sd/2021_Approved_Senate_Plan_w_Final_Adjustments/2021_Approved_Senate_Plan_w_Final_Adjustments.shp')\n",
    "\n",
    "sds.head(5)"
   ]
  },
  {
   "cell_type": "code",
   "execution_count": 4,
   "id": "1514c0e5-d7b1-436d-be4b-212aaf20b743",
   "metadata": {},
   "outputs": [
    {
     "data": {
      "text/plain": [
       "<Projected CRS: EPSG:2232>\n",
       "Name: NAD83 / Colorado Central (ftUS)\n",
       "Axis Info [cartesian]:\n",
       "- X[east]: Easting (US survey foot)\n",
       "- Y[north]: Northing (US survey foot)\n",
       "Area of Use:\n",
       "- name: United States (USA) - Colorado - counties Arapahoe; Chaffee; Cheyenne; Clear Creek; Delta; Denver; Douglas; Eagle; El Paso; Elbert; Fremont; Garfield; Gunnison; Jefferson; Kit Carson; Lake; Lincoln; Mesa; Park; Pitkin; Summit; Teller.\n",
       "- bounds: (-109.06, 38.14, -102.04, 40.09)\n",
       "Coordinate Operation:\n",
       "- name: SPCS83 Colorado Central zone (US survey foot)\n",
       "- method: Lambert Conic Conformal (2SP)\n",
       "Datum: North American Datum 1983\n",
       "- Ellipsoid: GRS 1980\n",
       "- Prime Meridian: Greenwich"
      ]
     },
     "execution_count": 4,
     "metadata": {},
     "output_type": "execute_result"
    }
   ],
   "source": [
    "sds.crs"
   ]
  },
  {
   "cell_type": "code",
   "execution_count": 5,
   "id": "a62eb4a1-fbfe-48b3-8946-57fb408982d2",
   "metadata": {},
   "outputs": [
    {
     "data": {
      "text/html": [
       "<div>\n",
       "<style scoped>\n",
       "    .dataframe tbody tr th:only-of-type {\n",
       "        vertical-align: middle;\n",
       "    }\n",
       "\n",
       "    .dataframe tbody tr th {\n",
       "        vertical-align: top;\n",
       "    }\n",
       "\n",
       "    .dataframe thead th {\n",
       "        text-align: right;\n",
       "    }\n",
       "</style>\n",
       "<table border=\"1\" class=\"dataframe\">\n",
       "  <thead>\n",
       "    <tr style=\"text-align: right;\">\n",
       "      <th></th>\n",
       "      <th>OBJECTID</th>\n",
       "      <th>District</th>\n",
       "      <th>Shape_Leng</th>\n",
       "      <th>Shape_Area</th>\n",
       "      <th>geometry</th>\n",
       "    </tr>\n",
       "  </thead>\n",
       "  <tbody>\n",
       "    <tr>\n",
       "      <th>0</th>\n",
       "      <td>1</td>\n",
       "      <td>1</td>\n",
       "      <td>3.080656e+06</td>\n",
       "      <td>3.564080e+11</td>\n",
       "      <td>MULTIPOLYGON (((-104.75617 40.38519, -104.7560...</td>\n",
       "    </tr>\n",
       "    <tr>\n",
       "      <th>1</th>\n",
       "      <td>2</td>\n",
       "      <td>2</td>\n",
       "      <td>5.278787e+05</td>\n",
       "      <td>3.252466e+09</td>\n",
       "      <td>POLYGON ((-104.79284 39.56609, -104.79137 39.5...</td>\n",
       "    </tr>\n",
       "    <tr>\n",
       "      <th>2</th>\n",
       "      <td>3</td>\n",
       "      <td>3</td>\n",
       "      <td>1.099216e+06</td>\n",
       "      <td>6.685520e+10</td>\n",
       "      <td>POLYGON ((-104.07353 38.52244, -104.07249 38.5...</td>\n",
       "    </tr>\n",
       "    <tr>\n",
       "      <th>3</th>\n",
       "      <td>4</td>\n",
       "      <td>4</td>\n",
       "      <td>2.995556e+06</td>\n",
       "      <td>2.069199e+11</td>\n",
       "      <td>POLYGON ((-105.16784 39.62869, -105.16694 39.6...</td>\n",
       "    </tr>\n",
       "    <tr>\n",
       "      <th>4</th>\n",
       "      <td>5</td>\n",
       "      <td>5</td>\n",
       "      <td>3.619013e+06</td>\n",
       "      <td>2.167483e+11</td>\n",
       "      <td>POLYGON ((-107.11386 39.6242, -107.11369 39.60...</td>\n",
       "    </tr>\n",
       "  </tbody>\n",
       "</table>\n",
       "</div>"
      ],
      "text/plain": [
       "   OBJECTID  District    Shape_Leng    Shape_Area  \\\n",
       "0         1         1  3.080656e+06  3.564080e+11   \n",
       "1         2         2  5.278787e+05  3.252466e+09   \n",
       "2         3         3  1.099216e+06  6.685520e+10   \n",
       "3         4         4  2.995556e+06  2.069199e+11   \n",
       "4         5         5  3.619013e+06  2.167483e+11   \n",
       "\n",
       "                                            geometry  \n",
       "0  MULTIPOLYGON (((-104.75617 40.38519, -104.7560...  \n",
       "1  POLYGON ((-104.79284 39.56609, -104.79137 39.5...  \n",
       "2  POLYGON ((-104.07353 38.52244, -104.07249 38.5...  \n",
       "3  POLYGON ((-105.16784 39.62869, -105.16694 39.6...  \n",
       "4  POLYGON ((-107.11386 39.6242, -107.11369 39.60...  "
      ]
     },
     "execution_count": 5,
     "metadata": {},
     "output_type": "execute_result"
    }
   ],
   "source": [
    "# convert crs to WGS 84, ESPG:4326\n",
    "sds.to_crs(4326, inplace=True)\n",
    "sds.head()"
   ]
  },
  {
   "cell_type": "code",
   "execution_count": 6,
   "id": "4dd56a58-ea52-48c7-b7de-9923f1182208",
   "metadata": {},
   "outputs": [
    {
     "name": "stdout",
     "output_type": "stream",
     "text": [
      "<class 'geopandas.geodataframe.GeoDataFrame'>\n",
      "RangeIndex: 35 entries, 0 to 34\n",
      "Data columns (total 5 columns):\n",
      " #   Column      Non-Null Count  Dtype   \n",
      "---  ------      --------------  -----   \n",
      " 0   OBJECTID    35 non-null     int64   \n",
      " 1   District    35 non-null     int64   \n",
      " 2   Shape_Leng  35 non-null     float64 \n",
      " 3   Shape_Area  35 non-null     float64 \n",
      " 4   geometry    35 non-null     geometry\n",
      "dtypes: float64(2), geometry(1), int64(2)\n",
      "memory usage: 1.5 KB\n"
     ]
    }
   ],
   "source": [
    "sds.info()"
   ]
  },
  {
   "cell_type": "code",
   "execution_count": 7,
   "id": "299729cf-4a3b-453e-b3e7-b30c8b83a209",
   "metadata": {
    "tags": []
   },
   "outputs": [],
   "source": [
    "sds.drop(columns=['OBJECTID', 'Shape_Leng', 'Shape_Area'], inplace=True)"
   ]
  },
  {
   "cell_type": "code",
   "execution_count": 8,
   "id": "b62ed94e-7459-4781-9144-d37197b5b08d",
   "metadata": {},
   "outputs": [],
   "source": [
    "sds.rename(columns={'District': 'SD'}, inplace=True)"
   ]
  },
  {
   "cell_type": "code",
   "execution_count": 9,
   "id": "46e0d8c0-e3e2-4c1e-a273-e5346a9e33b7",
   "metadata": {
    "tags": []
   },
   "outputs": [],
   "source": [
    "# write all SD's to geojson for statewide maps\n",
    "sds.to_file('output/sd.geojson', driver='GeoJSON')\n",
    "# sds_test_geojson = gpd.read_file('data/sd.geojson', driver='GeoJSON')\n",
    "# sds_test_geojson.plot()"
   ]
  },
  {
   "cell_type": "code",
   "execution_count": 10,
   "id": "313da0f0-b2f3-4e64-b508-3c5f3fd81716",
   "metadata": {
    "tags": []
   },
   "outputs": [],
   "source": [
    "boulder_sds = [15, 17, 18]\n",
    "sd_boulder = sds[sds.SD.isin(boulder_sds)]"
   ]
  },
  {
   "cell_type": "code",
   "execution_count": 11,
   "id": "b6591df6-1cda-46c7-8bdd-a1845c195950",
   "metadata": {},
   "outputs": [
    {
     "data": {
      "text/html": [
       "<div>\n",
       "<style scoped>\n",
       "    .dataframe tbody tr th:only-of-type {\n",
       "        vertical-align: middle;\n",
       "    }\n",
       "\n",
       "    .dataframe tbody tr th {\n",
       "        vertical-align: top;\n",
       "    }\n",
       "\n",
       "    .dataframe thead th {\n",
       "        text-align: right;\n",
       "    }\n",
       "</style>\n",
       "<table border=\"1\" class=\"dataframe\">\n",
       "  <thead>\n",
       "    <tr style=\"text-align: right;\">\n",
       "      <th></th>\n",
       "      <th>SD</th>\n",
       "      <th>geometry</th>\n",
       "    </tr>\n",
       "  </thead>\n",
       "  <tbody>\n",
       "    <tr>\n",
       "      <th>14</th>\n",
       "      <td>15</td>\n",
       "      <td>POLYGON ((-105.23149 40.99842, -105.22664 40.9...</td>\n",
       "    </tr>\n",
       "    <tr>\n",
       "      <th>16</th>\n",
       "      <td>17</td>\n",
       "      <td>POLYGON ((-105.12137 40.21042, -105.11564 40.2...</td>\n",
       "    </tr>\n",
       "    <tr>\n",
       "      <th>17</th>\n",
       "      <td>18</td>\n",
       "      <td>POLYGON ((-105.15947 40.11596, -105.15947 40.1...</td>\n",
       "    </tr>\n",
       "  </tbody>\n",
       "</table>\n",
       "</div>"
      ],
      "text/plain": [
       "    SD                                           geometry\n",
       "14  15  POLYGON ((-105.23149 40.99842, -105.22664 40.9...\n",
       "16  17  POLYGON ((-105.12137 40.21042, -105.11564 40.2...\n",
       "17  18  POLYGON ((-105.15947 40.11596, -105.15947 40.1..."
      ]
     },
     "execution_count": 11,
     "metadata": {},
     "output_type": "execute_result"
    }
   ],
   "source": [
    "sd_boulder"
   ]
  },
  {
   "cell_type": "code",
   "execution_count": 12,
   "id": "ca343f63-eefe-4381-8cd2-d46d6fd1beda",
   "metadata": {},
   "outputs": [
    {
     "data": {
      "text/plain": [
       "<Geographic 2D CRS: EPSG:4326>\n",
       "Name: WGS 84\n",
       "Axis Info [ellipsoidal]:\n",
       "- Lat[north]: Geodetic latitude (degree)\n",
       "- Lon[east]: Geodetic longitude (degree)\n",
       "Area of Use:\n",
       "- name: World.\n",
       "- bounds: (-180.0, -90.0, 180.0, 90.0)\n",
       "Datum: World Geodetic System 1984 ensemble\n",
       "- Ellipsoid: WGS 84\n",
       "- Prime Meridian: Greenwich"
      ]
     },
     "execution_count": 12,
     "metadata": {},
     "output_type": "execute_result"
    }
   ],
   "source": [
    "sd_boulder.crs"
   ]
  },
  {
   "cell_type": "code",
   "execution_count": 13,
   "id": "0f8f0c78-0a99-44e3-b5ea-8a7cb79cf25d",
   "metadata": {},
   "outputs": [],
   "source": [
    "# write Boulder County SD's to geojson file\n",
    "sd_boulder.to_file('output/sd_boulder.geojson', driver='GeoJSON')"
   ]
  },
  {
   "cell_type": "code",
   "execution_count": 14,
   "id": "332931ec-3252-495f-9980-bbdee628a274",
   "metadata": {
    "tags": []
   },
   "outputs": [
    {
     "name": "stderr",
     "output_type": "stream",
     "text": [
      "/Users/brucenorikane/miniconda3/envs/geojupy/lib/python3.12/site-packages/pyogrio/raw.py:196: RuntimeWarning: driver GeoJSON does not support open option DRIVER\n",
      "  return ogr_read(\n"
     ]
    }
   ],
   "source": [
    "sd_boulder_test_geojson = gpd.read_file('output/sd_boulder.geojson', driver='GeoJSON')"
   ]
  },
  {
   "cell_type": "code",
   "execution_count": 15,
   "id": "2b6ecf7a-d769-46a2-a359-59547526aed2",
   "metadata": {},
   "outputs": [
    {
     "data": {
      "text/html": [
       "<div>\n",
       "<style scoped>\n",
       "    .dataframe tbody tr th:only-of-type {\n",
       "        vertical-align: middle;\n",
       "    }\n",
       "\n",
       "    .dataframe tbody tr th {\n",
       "        vertical-align: top;\n",
       "    }\n",
       "\n",
       "    .dataframe thead th {\n",
       "        text-align: right;\n",
       "    }\n",
       "</style>\n",
       "<table border=\"1\" class=\"dataframe\">\n",
       "  <thead>\n",
       "    <tr style=\"text-align: right;\">\n",
       "      <th></th>\n",
       "      <th>SD</th>\n",
       "      <th>geometry</th>\n",
       "    </tr>\n",
       "  </thead>\n",
       "  <tbody>\n",
       "    <tr>\n",
       "      <th>0</th>\n",
       "      <td>15</td>\n",
       "      <td>POLYGON ((-105.23149 40.99842, -105.22664 40.9...</td>\n",
       "    </tr>\n",
       "    <tr>\n",
       "      <th>1</th>\n",
       "      <td>17</td>\n",
       "      <td>POLYGON ((-105.12137 40.21042, -105.11564 40.2...</td>\n",
       "    </tr>\n",
       "    <tr>\n",
       "      <th>2</th>\n",
       "      <td>18</td>\n",
       "      <td>POLYGON ((-105.15947 40.11596, -105.15947 40.1...</td>\n",
       "    </tr>\n",
       "  </tbody>\n",
       "</table>\n",
       "</div>"
      ],
      "text/plain": [
       "   SD                                           geometry\n",
       "0  15  POLYGON ((-105.23149 40.99842, -105.22664 40.9...\n",
       "1  17  POLYGON ((-105.12137 40.21042, -105.11564 40.2...\n",
       "2  18  POLYGON ((-105.15947 40.11596, -105.15947 40.1..."
      ]
     },
     "execution_count": 15,
     "metadata": {},
     "output_type": "execute_result"
    }
   ],
   "source": [
    "sd_boulder_test_geojson"
   ]
  },
  {
   "cell_type": "markdown",
   "id": "f5cb14de-21d7-49ff-a38a-05d7f43909f7",
   "metadata": {},
   "source": [
    "### HD - State House District Boundaries"
   ]
  },
  {
   "cell_type": "code",
   "execution_count": 16,
   "id": "8b57b11d-d6c5-4265-bbd6-6a6cddbd8a15",
   "metadata": {
    "tags": []
   },
   "outputs": [
    {
     "data": {
      "text/plain": [
       "<Geographic 2D CRS: EPSG:4326>\n",
       "Name: WGS 84\n",
       "Axis Info [ellipsoidal]:\n",
       "- Lat[north]: Geodetic latitude (degree)\n",
       "- Lon[east]: Geodetic longitude (degree)\n",
       "Area of Use:\n",
       "- name: World.\n",
       "- bounds: (-180.0, -90.0, 180.0, 90.0)\n",
       "Datum: World Geodetic System 1984 ensemble\n",
       "- Ellipsoid: WGS 84\n",
       "- Prime Meridian: Greenwich"
      ]
     },
     "execution_count": 16,
     "metadata": {},
     "output_type": "execute_result"
    }
   ],
   "source": [
    "hds = gpd.read_file('data/hd/2021_Final_Approved_House_Plan.shp')\n",
    "hds.crs"
   ]
  },
  {
   "cell_type": "code",
   "execution_count": 17,
   "id": "37d5e2dd-fd0c-4b5f-9656-147c49f7c3c5",
   "metadata": {},
   "outputs": [
    {
     "data": {
      "text/html": [
       "<div>\n",
       "<style scoped>\n",
       "    .dataframe tbody tr th:only-of-type {\n",
       "        vertical-align: middle;\n",
       "    }\n",
       "\n",
       "    .dataframe tbody tr th {\n",
       "        vertical-align: top;\n",
       "    }\n",
       "\n",
       "    .dataframe thead th {\n",
       "        text-align: right;\n",
       "    }\n",
       "</style>\n",
       "<table border=\"1\" class=\"dataframe\">\n",
       "  <thead>\n",
       "    <tr style=\"text-align: right;\">\n",
       "      <th></th>\n",
       "      <th>DISTRICT</th>\n",
       "      <th>geometry</th>\n",
       "    </tr>\n",
       "  </thead>\n",
       "  <tbody>\n",
       "    <tr>\n",
       "      <th>0</th>\n",
       "      <td>1</td>\n",
       "      <td>POLYGON ((-105.05324 39.69679, -105.05324 39.6...</td>\n",
       "    </tr>\n",
       "    <tr>\n",
       "      <th>1</th>\n",
       "      <td>2</td>\n",
       "      <td>POLYGON ((-104.94069 39.71108, -104.94074 39.7...</td>\n",
       "    </tr>\n",
       "    <tr>\n",
       "      <th>2</th>\n",
       "      <td>3</td>\n",
       "      <td>POLYGON ((-105.03494 39.62621, -105.03489 39.6...</td>\n",
       "    </tr>\n",
       "    <tr>\n",
       "      <th>3</th>\n",
       "      <td>4</td>\n",
       "      <td>POLYGON ((-105.02515 39.78439, -105.02509 39.7...</td>\n",
       "    </tr>\n",
       "    <tr>\n",
       "      <th>4</th>\n",
       "      <td>5</td>\n",
       "      <td>POLYGON ((-104.98053 39.76229, -104.98077 39.7...</td>\n",
       "    </tr>\n",
       "    <tr>\n",
       "      <th>...</th>\n",
       "      <td>...</td>\n",
       "      <td>...</td>\n",
       "    </tr>\n",
       "    <tr>\n",
       "      <th>60</th>\n",
       "      <td>61</td>\n",
       "      <td>POLYGON ((-104.70489 39.60946, -104.69906 39.6...</td>\n",
       "    </tr>\n",
       "    <tr>\n",
       "      <th>61</th>\n",
       "      <td>62</td>\n",
       "      <td>POLYGON ((-106.67838 37.4036, -106.684 37.4037...</td>\n",
       "    </tr>\n",
       "    <tr>\n",
       "      <th>62</th>\n",
       "      <td>63</td>\n",
       "      <td>POLYGON ((-102.05147 40.44001, -102.05154 40.4...</td>\n",
       "    </tr>\n",
       "    <tr>\n",
       "      <th>63</th>\n",
       "      <td>64</td>\n",
       "      <td>POLYGON ((-105.05519 40.22457, -105.05518 40.2...</td>\n",
       "    </tr>\n",
       "    <tr>\n",
       "      <th>64</th>\n",
       "      <td>65</td>\n",
       "      <td>POLYGON ((-104.94355 40.69652, -104.94312 40.6...</td>\n",
       "    </tr>\n",
       "  </tbody>\n",
       "</table>\n",
       "<p>65 rows × 2 columns</p>\n",
       "</div>"
      ],
      "text/plain": [
       "    DISTRICT                                           geometry\n",
       "0          1  POLYGON ((-105.05324 39.69679, -105.05324 39.6...\n",
       "1          2  POLYGON ((-104.94069 39.71108, -104.94074 39.7...\n",
       "2          3  POLYGON ((-105.03494 39.62621, -105.03489 39.6...\n",
       "3          4  POLYGON ((-105.02515 39.78439, -105.02509 39.7...\n",
       "4          5  POLYGON ((-104.98053 39.76229, -104.98077 39.7...\n",
       "..       ...                                                ...\n",
       "60        61  POLYGON ((-104.70489 39.60946, -104.69906 39.6...\n",
       "61        62  POLYGON ((-106.67838 37.4036, -106.684 37.4037...\n",
       "62        63  POLYGON ((-102.05147 40.44001, -102.05154 40.4...\n",
       "63        64  POLYGON ((-105.05519 40.22457, -105.05518 40.2...\n",
       "64        65  POLYGON ((-104.94355 40.69652, -104.94312 40.6...\n",
       "\n",
       "[65 rows x 2 columns]"
      ]
     },
     "execution_count": 17,
     "metadata": {},
     "output_type": "execute_result"
    }
   ],
   "source": [
    "hds = hds[['DISTRICT','geometry']]\n",
    "hds"
   ]
  },
  {
   "cell_type": "code",
   "execution_count": 18,
   "id": "45514522-e43b-40ce-b3a8-8852fd74170b",
   "metadata": {},
   "outputs": [],
   "source": [
    "hds.rename(columns={'DISTRICT': 'HD'}, inplace=True)"
   ]
  },
  {
   "cell_type": "code",
   "execution_count": 19,
   "id": "f0478ce6-f378-4bca-9e26-c1cf760bdc08",
   "metadata": {},
   "outputs": [
    {
     "data": {
      "text/html": [
       "<div>\n",
       "<style scoped>\n",
       "    .dataframe tbody tr th:only-of-type {\n",
       "        vertical-align: middle;\n",
       "    }\n",
       "\n",
       "    .dataframe tbody tr th {\n",
       "        vertical-align: top;\n",
       "    }\n",
       "\n",
       "    .dataframe thead th {\n",
       "        text-align: right;\n",
       "    }\n",
       "</style>\n",
       "<table border=\"1\" class=\"dataframe\">\n",
       "  <thead>\n",
       "    <tr style=\"text-align: right;\">\n",
       "      <th></th>\n",
       "      <th>HD</th>\n",
       "      <th>geometry</th>\n",
       "    </tr>\n",
       "  </thead>\n",
       "  <tbody>\n",
       "    <tr>\n",
       "      <th>0</th>\n",
       "      <td>1</td>\n",
       "      <td>POLYGON ((-105.05324 39.69679, -105.05324 39.6...</td>\n",
       "    </tr>\n",
       "    <tr>\n",
       "      <th>1</th>\n",
       "      <td>2</td>\n",
       "      <td>POLYGON ((-104.94069 39.71108, -104.94074 39.7...</td>\n",
       "    </tr>\n",
       "    <tr>\n",
       "      <th>2</th>\n",
       "      <td>3</td>\n",
       "      <td>POLYGON ((-105.03494 39.62621, -105.03489 39.6...</td>\n",
       "    </tr>\n",
       "    <tr>\n",
       "      <th>3</th>\n",
       "      <td>4</td>\n",
       "      <td>POLYGON ((-105.02515 39.78439, -105.02509 39.7...</td>\n",
       "    </tr>\n",
       "    <tr>\n",
       "      <th>4</th>\n",
       "      <td>5</td>\n",
       "      <td>POLYGON ((-104.98053 39.76229, -104.98077 39.7...</td>\n",
       "    </tr>\n",
       "    <tr>\n",
       "      <th>...</th>\n",
       "      <td>...</td>\n",
       "      <td>...</td>\n",
       "    </tr>\n",
       "    <tr>\n",
       "      <th>60</th>\n",
       "      <td>61</td>\n",
       "      <td>POLYGON ((-104.70489 39.60946, -104.69906 39.6...</td>\n",
       "    </tr>\n",
       "    <tr>\n",
       "      <th>61</th>\n",
       "      <td>62</td>\n",
       "      <td>POLYGON ((-106.67838 37.4036, -106.684 37.4037...</td>\n",
       "    </tr>\n",
       "    <tr>\n",
       "      <th>62</th>\n",
       "      <td>63</td>\n",
       "      <td>POLYGON ((-102.05147 40.44001, -102.05154 40.4...</td>\n",
       "    </tr>\n",
       "    <tr>\n",
       "      <th>63</th>\n",
       "      <td>64</td>\n",
       "      <td>POLYGON ((-105.05519 40.22457, -105.05518 40.2...</td>\n",
       "    </tr>\n",
       "    <tr>\n",
       "      <th>64</th>\n",
       "      <td>65</td>\n",
       "      <td>POLYGON ((-104.94355 40.69652, -104.94312 40.6...</td>\n",
       "    </tr>\n",
       "  </tbody>\n",
       "</table>\n",
       "<p>65 rows × 2 columns</p>\n",
       "</div>"
      ],
      "text/plain": [
       "    HD                                           geometry\n",
       "0    1  POLYGON ((-105.05324 39.69679, -105.05324 39.6...\n",
       "1    2  POLYGON ((-104.94069 39.71108, -104.94074 39.7...\n",
       "2    3  POLYGON ((-105.03494 39.62621, -105.03489 39.6...\n",
       "3    4  POLYGON ((-105.02515 39.78439, -105.02509 39.7...\n",
       "4    5  POLYGON ((-104.98053 39.76229, -104.98077 39.7...\n",
       "..  ..                                                ...\n",
       "60  61  POLYGON ((-104.70489 39.60946, -104.69906 39.6...\n",
       "61  62  POLYGON ((-106.67838 37.4036, -106.684 37.4037...\n",
       "62  63  POLYGON ((-102.05147 40.44001, -102.05154 40.4...\n",
       "63  64  POLYGON ((-105.05519 40.22457, -105.05518 40.2...\n",
       "64  65  POLYGON ((-104.94355 40.69652, -104.94312 40.6...\n",
       "\n",
       "[65 rows x 2 columns]"
      ]
     },
     "execution_count": 19,
     "metadata": {},
     "output_type": "execute_result"
    }
   ],
   "source": [
    "hds"
   ]
  },
  {
   "cell_type": "code",
   "execution_count": 20,
   "id": "ba36b01e-597b-4f78-a0b9-a19da158879f",
   "metadata": {},
   "outputs": [],
   "source": [
    "hds.to_file('data/hd.geojson', driver='GeoJSON')"
   ]
  },
  {
   "cell_type": "code",
   "execution_count": 21,
   "id": "3e28e218-54cf-4d80-a652-cb9b45f6d15f",
   "metadata": {},
   "outputs": [
    {
     "data": {
      "text/html": [
       "<div>\n",
       "<style scoped>\n",
       "    .dataframe tbody tr th:only-of-type {\n",
       "        vertical-align: middle;\n",
       "    }\n",
       "\n",
       "    .dataframe tbody tr th {\n",
       "        vertical-align: top;\n",
       "    }\n",
       "\n",
       "    .dataframe thead th {\n",
       "        text-align: right;\n",
       "    }\n",
       "</style>\n",
       "<table border=\"1\" class=\"dataframe\">\n",
       "  <thead>\n",
       "    <tr style=\"text-align: right;\">\n",
       "      <th></th>\n",
       "      <th>HD</th>\n",
       "      <th>geometry</th>\n",
       "    </tr>\n",
       "  </thead>\n",
       "  <tbody>\n",
       "    <tr>\n",
       "      <th>9</th>\n",
       "      <td>10</td>\n",
       "      <td>POLYGON ((-105.23552 40.04903, -105.23601 40.0...</td>\n",
       "    </tr>\n",
       "    <tr>\n",
       "      <th>10</th>\n",
       "      <td>11</td>\n",
       "      <td>POLYGON ((-105.17158 40.13063, -105.17342 40.1...</td>\n",
       "    </tr>\n",
       "    <tr>\n",
       "      <th>11</th>\n",
       "      <td>12</td>\n",
       "      <td>POLYGON ((-105.21602 40.06186, -105.21556 40.0...</td>\n",
       "    </tr>\n",
       "    <tr>\n",
       "      <th>18</th>\n",
       "      <td>19</td>\n",
       "      <td>POLYGON ((-105.10304 40.03661, -105.10275 40.0...</td>\n",
       "    </tr>\n",
       "    <tr>\n",
       "      <th>48</th>\n",
       "      <td>49</td>\n",
       "      <td>POLYGON ((-105.70079 39.87893, -105.70078 39.8...</td>\n",
       "    </tr>\n",
       "  </tbody>\n",
       "</table>\n",
       "</div>"
      ],
      "text/plain": [
       "    HD                                           geometry\n",
       "9   10  POLYGON ((-105.23552 40.04903, -105.23601 40.0...\n",
       "10  11  POLYGON ((-105.17158 40.13063, -105.17342 40.1...\n",
       "11  12  POLYGON ((-105.21602 40.06186, -105.21556 40.0...\n",
       "18  19  POLYGON ((-105.10304 40.03661, -105.10275 40.0...\n",
       "48  49  POLYGON ((-105.70079 39.87893, -105.70078 39.8..."
      ]
     },
     "execution_count": 21,
     "metadata": {},
     "output_type": "execute_result"
    }
   ],
   "source": [
    "boulder_hds = [10, 11, 12, 19, 49]\n",
    "hd_boulder = hds[hds.HD.isin(boulder_hds)]\n",
    "hd_boulder\n"
   ]
  },
  {
   "cell_type": "code",
   "execution_count": 22,
   "id": "91f776cf-e4f3-474c-b1e9-b95bbe00f51c",
   "metadata": {},
   "outputs": [],
   "source": [
    "hd_boulder.to_file('data/hd_boulder.geojson', driver='GeoJSON')\n"
   ]
  },
  {
   "cell_type": "code",
   "execution_count": 23,
   "id": "1d3a0025-6106-4250-9fe5-c423207a9507",
   "metadata": {},
   "outputs": [],
   "source": [
    "# hd_test_geojson = gpd.read_file('data/hd_boulder.geojson', driver='GeoJSON')\n",
    "# hd_test_geojson.plot()"
   ]
  },
  {
   "cell_type": "code",
   "execution_count": 24,
   "id": "1185d1b0-1232-40a0-afb2-0d1533eeb39b",
   "metadata": {},
   "outputs": [],
   "source": [
    "# m = hd_boulder.explore()\n",
    "# m.save('hd_boulder.html')"
   ]
  },
  {
   "cell_type": "markdown",
   "id": "dd1f5b08-0b74-44fc-94f3-0044f3cbb16b",
   "metadata": {},
   "source": [
    "### CD - Boulder County Congressional Districts\n",
    "- All of Boulder County is in CD2"
   ]
  },
  {
   "cell_type": "code",
   "execution_count": 25,
   "id": "baa74ced-8586-4227-a77f-1298dad8e900",
   "metadata": {},
   "outputs": [],
   "source": [
    "# Create CD2 boundary file from Final Approved CD shape file\n",
    "CD_all = gpd.read_file('data/cd/2021_Approved_Congressional_Plan_with_Final_Adjustments/2021_Approved_Congressional_Plan_w_Final_Adjustments.shp')"
   ]
  },
  {
   "cell_type": "code",
   "execution_count": 26,
   "id": "1438adff-08ae-4109-b39c-cab22a8a7fb4",
   "metadata": {},
   "outputs": [
    {
     "data": {
      "text/plain": [
       "<Projected CRS: EPSG:2232>\n",
       "Name: NAD83 / Colorado Central (ftUS)\n",
       "Axis Info [cartesian]:\n",
       "- X[east]: Easting (US survey foot)\n",
       "- Y[north]: Northing (US survey foot)\n",
       "Area of Use:\n",
       "- name: United States (USA) - Colorado - counties Arapahoe; Chaffee; Cheyenne; Clear Creek; Delta; Denver; Douglas; Eagle; El Paso; Elbert; Fremont; Garfield; Gunnison; Jefferson; Kit Carson; Lake; Lincoln; Mesa; Park; Pitkin; Summit; Teller.\n",
       "- bounds: (-109.06, 38.14, -102.04, 40.09)\n",
       "Coordinate Operation:\n",
       "- name: SPCS83 Colorado Central zone (US survey foot)\n",
       "- method: Lambert Conic Conformal (2SP)\n",
       "Datum: North American Datum 1983\n",
       "- Ellipsoid: GRS 1980\n",
       "- Prime Meridian: Greenwich"
      ]
     },
     "execution_count": 26,
     "metadata": {},
     "output_type": "execute_result"
    }
   ],
   "source": [
    "CD_all.crs"
   ]
  },
  {
   "cell_type": "code",
   "execution_count": 27,
   "id": "6439ef17-4c7c-4d93-84f0-fbcede7fec43",
   "metadata": {},
   "outputs": [],
   "source": [
    "CD_all.to_crs(4326, inplace=True)"
   ]
  },
  {
   "cell_type": "code",
   "execution_count": 28,
   "id": "420b1524-c559-4e70-b62a-c55133e2a500",
   "metadata": {},
   "outputs": [
    {
     "name": "stdout",
     "output_type": "stream",
     "text": [
      "<class 'geopandas.geodataframe.GeoDataFrame'>\n",
      "RangeIndex: 8 entries, 0 to 7\n",
      "Data columns (total 6 columns):\n",
      " #   Column      Non-Null Count  Dtype   \n",
      "---  ------      --------------  -----   \n",
      " 0   OBJECTID    8 non-null      int64   \n",
      " 1   District    8 non-null      int64   \n",
      " 2   Shape_Leng  8 non-null      float64 \n",
      " 3   Shape_Le_1  8 non-null      float64 \n",
      " 4   Shape_Area  8 non-null      float64 \n",
      " 5   geometry    8 non-null      geometry\n",
      "dtypes: float64(3), geometry(1), int64(2)\n",
      "memory usage: 516.0 bytes\n"
     ]
    }
   ],
   "source": [
    "CD_all.info()"
   ]
  },
  {
   "cell_type": "code",
   "execution_count": 29,
   "id": "31bc31f4-2030-4eff-b56c-ac2c3511a68b",
   "metadata": {},
   "outputs": [
    {
     "data": {
      "text/html": [
       "<div>\n",
       "<style scoped>\n",
       "    .dataframe tbody tr th:only-of-type {\n",
       "        vertical-align: middle;\n",
       "    }\n",
       "\n",
       "    .dataframe tbody tr th {\n",
       "        vertical-align: top;\n",
       "    }\n",
       "\n",
       "    .dataframe thead th {\n",
       "        text-align: right;\n",
       "    }\n",
       "</style>\n",
       "<table border=\"1\" class=\"dataframe\">\n",
       "  <thead>\n",
       "    <tr style=\"text-align: right;\">\n",
       "      <th></th>\n",
       "      <th>OBJECTID</th>\n",
       "      <th>District</th>\n",
       "      <th>Shape_Leng</th>\n",
       "      <th>Shape_Le_1</th>\n",
       "      <th>Shape_Area</th>\n",
       "      <th>geometry</th>\n",
       "    </tr>\n",
       "  </thead>\n",
       "  <tbody>\n",
       "    <tr>\n",
       "      <th>0</th>\n",
       "      <td>1</td>\n",
       "      <td>1</td>\n",
       "      <td>2.495876</td>\n",
       "      <td>7.814496e+05</td>\n",
       "      <td>4.336640e+09</td>\n",
       "      <td>POLYGON ((-104.66853 39.9069, -104.65916 39.90...</td>\n",
       "    </tr>\n",
       "    <tr>\n",
       "      <th>1</th>\n",
       "      <td>2</td>\n",
       "      <td>2</td>\n",
       "      <td>11.320395</td>\n",
       "      <td>3.521568e+06</td>\n",
       "      <td>3.218254e+11</td>\n",
       "      <td>POLYGON ((-106.97869 41.00338, -106.97421 41.0...</td>\n",
       "    </tr>\n",
       "    <tr>\n",
       "      <th>2</th>\n",
       "      <td>3</td>\n",
       "      <td>3</td>\n",
       "      <td>23.731473</td>\n",
       "      <td>7.604425e+06</td>\n",
       "      <td>1.396837e+12</td>\n",
       "      <td>POLYGON ((-107.36708 41.00307, -107.36565 41.0...</td>\n",
       "    </tr>\n",
       "    <tr>\n",
       "      <th>3</th>\n",
       "      <td>4</td>\n",
       "      <td>4</td>\n",
       "      <td>19.406221</td>\n",
       "      <td>6.234628e+06</td>\n",
       "      <td>9.005584e+11</td>\n",
       "      <td>POLYGON ((-102.59825 41.00242, -102.58208 41.0...</td>\n",
       "    </tr>\n",
       "    <tr>\n",
       "      <th>4</th>\n",
       "      <td>5</td>\n",
       "      <td>5</td>\n",
       "      <td>3.028264</td>\n",
       "      <td>9.616973e+05</td>\n",
       "      <td>4.109716e+10</td>\n",
       "      <td>POLYGON ((-104.91224 39.12984, -104.9122 39.12...</td>\n",
       "    </tr>\n",
       "  </tbody>\n",
       "</table>\n",
       "</div>"
      ],
      "text/plain": [
       "   OBJECTID  District  Shape_Leng    Shape_Le_1    Shape_Area  \\\n",
       "0         1         1    2.495876  7.814496e+05  4.336640e+09   \n",
       "1         2         2   11.320395  3.521568e+06  3.218254e+11   \n",
       "2         3         3   23.731473  7.604425e+06  1.396837e+12   \n",
       "3         4         4   19.406221  6.234628e+06  9.005584e+11   \n",
       "4         5         5    3.028264  9.616973e+05  4.109716e+10   \n",
       "\n",
       "                                            geometry  \n",
       "0  POLYGON ((-104.66853 39.9069, -104.65916 39.90...  \n",
       "1  POLYGON ((-106.97869 41.00338, -106.97421 41.0...  \n",
       "2  POLYGON ((-107.36708 41.00307, -107.36565 41.0...  \n",
       "3  POLYGON ((-102.59825 41.00242, -102.58208 41.0...  \n",
       "4  POLYGON ((-104.91224 39.12984, -104.9122 39.12...  "
      ]
     },
     "execution_count": 29,
     "metadata": {},
     "output_type": "execute_result"
    }
   ],
   "source": [
    "CD_all.head()"
   ]
  },
  {
   "cell_type": "code",
   "execution_count": 30,
   "id": "5ef45c96-7fe0-4719-ab8e-e3c55544a00d",
   "metadata": {},
   "outputs": [],
   "source": [
    "cd2 = CD_all.drop(index=[0,2,3,4,5,6,7])\n"
   ]
  },
  {
   "cell_type": "code",
   "execution_count": 31,
   "id": "c74d54ea-c76f-4f1c-b85f-91945a8ed2c4",
   "metadata": {},
   "outputs": [
    {
     "data": {
      "text/plain": [
       "<Axes: >"
      ]
     },
     "execution_count": 31,
     "metadata": {},
     "output_type": "execute_result"
    },
    {
     "data": {
      "image/png": "[encoded data removed]",
      "text/plain": [
       "<Figure size 640x480 with 1 Axes>"
      ]
     },
     "metadata": {},
     "output_type": "display_data"
    }
   ],
   "source": [
    "cd2.plot()"
   ]
  },
  {
   "cell_type": "code",
   "execution_count": 32,
   "id": "882678ff-4c1c-4191-868d-4765bcdedfb6",
   "metadata": {},
   "outputs": [
    {
     "data": {
      "text/plain": [
       "<Geographic 2D CRS: EPSG:4326>\n",
       "Name: WGS 84\n",
       "Axis Info [ellipsoidal]:\n",
       "- Lat[north]: Geodetic latitude (degree)\n",
       "- Lon[east]: Geodetic longitude (degree)\n",
       "Area of Use:\n",
       "- name: World.\n",
       "- bounds: (-180.0, -90.0, 180.0, 90.0)\n",
       "Datum: World Geodetic System 1984 ensemble\n",
       "- Ellipsoid: WGS 84\n",
       "- Prime Meridian: Greenwich"
      ]
     },
     "execution_count": 32,
     "metadata": {},
     "output_type": "execute_result"
    }
   ],
   "source": [
    "cd2.crs"
   ]
  },
  {
   "cell_type": "code",
   "execution_count": 33,
   "id": "e7e46318-4d82-435d-bc7b-565172c07a57",
   "metadata": {},
   "outputs": [],
   "source": [
    "cd2.to_file('output/cd2.geojson', driver='GeoJSON')"
   ]
  },
  {
   "cell_type": "code",
   "execution_count": 34,
   "id": "b30430f1-46e6-4c69-8d15-6da7d3d8470a",
   "metadata": {},
   "outputs": [
    {
     "name": "stderr",
     "output_type": "stream",
     "text": [
      "/Users/brucenorikane/miniconda3/envs/geojupy/lib/python3.12/site-packages/pyogrio/raw.py:196: RuntimeWarning: driver GeoJSON does not support open option DRIVER\n",
      "  return ogr_read(\n"
     ]
    },
    {
     "data": {
      "text/plain": [
       "<Axes: >"
      ]
     },
     "execution_count": 34,
     "metadata": {},
     "output_type": "execute_result"
    },
    {
     "data": {
      "image/png": "[encoded data removed]",
      "text/plain": [
       "<Figure size 640x480 with 1 Axes>"
      ]
     },
     "metadata": {},
     "output_type": "display_data"
    }
   ],
   "source": [
    "cd2_read_geojson = gpd.read_file('output/cd2.geojson', driver='GeoJSON')\n",
    "cd2_read_geojson.plot()"
   ]
  },
  {
   "cell_type": "markdown",
   "id": "57440289-839b-48bb-b876-7308d25c19c2",
   "metadata": {
    "tags": []
   },
   "source": [
    "### Precincts - Boulder County Precinct Boundaries"
   ]
  },
  {
   "cell_type": "code",
   "execution_count": 36,
   "id": "f713f5de-fea1-4afb-b88d-3b0d2f27171b",
   "metadata": {
    "tags": []
   },
   "outputs": [],
   "source": [
    "precincts = gpd.read_file('data/pct/precinct_map.shp')"
   ]
  },
  {
   "cell_type": "code",
   "execution_count": 37,
   "id": "4402514e-b45b-40de-be10-3b7cc35176b6",
   "metadata": {
    "tags": []
   },
   "outputs": [
    {
     "data": {
      "text/plain": [
       "<Geographic 2D CRS: EPSG:4326>\n",
       "Name: WGS 84\n",
       "Axis Info [ellipsoidal]:\n",
       "- Lat[north]: Geodetic latitude (degree)\n",
       "- Lon[east]: Geodetic longitude (degree)\n",
       "Area of Use:\n",
       "- name: World.\n",
       "- bounds: (-180.0, -90.0, 180.0, 90.0)\n",
       "Datum: World Geodetic System 1984 ensemble\n",
       "- Ellipsoid: WGS 84\n",
       "- Prime Meridian: Greenwich"
      ]
     },
     "execution_count": 37,
     "metadata": {},
     "output_type": "execute_result"
    }
   ],
   "source": [
    "precincts.crs"
   ]
  },
  {
   "cell_type": "code",
   "execution_count": 38,
   "id": "079d3956-bd02-4c8f-bfac-a7884924d26f",
   "metadata": {
    "tags": []
   },
   "outputs": [
    {
     "name": "stdout",
     "output_type": "stream",
     "text": [
      "<class 'geopandas.geodataframe.GeoDataFrame'>\n",
      "RangeIndex: 194 entries, 0 to 193\n",
      "Data columns (total 5 columns):\n",
      " #   Column     Non-Null Count  Dtype   \n",
      "---  ------     --------------  -----   \n",
      " 0   PCT        194 non-null    int64   \n",
      " 1   Area       194 non-null    object  \n",
      " 2   DISTRICT   194 non-null    object  \n",
      " 3   SHAPEarea  194 non-null    float64 \n",
      " 4   geometry   194 non-null    geometry\n",
      "dtypes: float64(1), geometry(1), int64(1), object(2)\n",
      "memory usage: 7.7+ KB\n"
     ]
    }
   ],
   "source": [
    "precincts.info()"
   ]
  },
  {
   "cell_type": "code",
   "execution_count": 39,
   "id": "1fe72dc2",
   "metadata": {},
   "outputs": [
    {
     "data": {
      "text/html": [
       "<div>\n",
       "<style scoped>\n",
       "    .dataframe tbody tr th:only-of-type {\n",
       "        vertical-align: middle;\n",
       "    }\n",
       "\n",
       "    .dataframe tbody tr th {\n",
       "        vertical-align: top;\n",
       "    }\n",
       "\n",
       "    .dataframe thead th {\n",
       "        text-align: right;\n",
       "    }\n",
       "</style>\n",
       "<table border=\"1\" class=\"dataframe\">\n",
       "  <thead>\n",
       "    <tr style=\"text-align: right;\">\n",
       "      <th></th>\n",
       "      <th>PCT</th>\n",
       "      <th>Area</th>\n",
       "      <th>DISTRICT</th>\n",
       "      <th>SHAPEarea</th>\n",
       "      <th>geometry</th>\n",
       "    </tr>\n",
       "  </thead>\n",
       "  <tbody>\n",
       "    <tr>\n",
       "      <th>0</th>\n",
       "      <td>801</td>\n",
       "      <td>HD10-01</td>\n",
       "      <td>2181007801</td>\n",
       "      <td>1.765772e+07</td>\n",
       "      <td>POLYGON ((-105.20685 40.07118, -105.20677 40.0...</td>\n",
       "    </tr>\n",
       "    <tr>\n",
       "      <th>1</th>\n",
       "      <td>802</td>\n",
       "      <td>HD10-01</td>\n",
       "      <td>2181007802</td>\n",
       "      <td>2.016222e+08</td>\n",
       "      <td>POLYGON ((-105.20846 40.08892, -105.20752 40.0...</td>\n",
       "    </tr>\n",
       "    <tr>\n",
       "      <th>2</th>\n",
       "      <td>803</td>\n",
       "      <td>HD10-01</td>\n",
       "      <td>2181007803</td>\n",
       "      <td>8.826869e+06</td>\n",
       "      <td>POLYGON ((-105.26511 40.0547, -105.26519 40.05...</td>\n",
       "    </tr>\n",
       "    <tr>\n",
       "      <th>3</th>\n",
       "      <td>806</td>\n",
       "      <td>HD10-01</td>\n",
       "      <td>2181007806</td>\n",
       "      <td>1.043803e+07</td>\n",
       "      <td>POLYGON ((-105.27273 40.05464, -105.27273 40.0...</td>\n",
       "    </tr>\n",
       "  </tbody>\n",
       "</table>\n",
       "</div>"
      ],
      "text/plain": [
       "   PCT     Area    DISTRICT     SHAPEarea  \\\n",
       "0  801  HD10-01  2181007801  1.765772e+07   \n",
       "1  802  HD10-01  2181007802  2.016222e+08   \n",
       "2  803  HD10-01  2181007803  8.826869e+06   \n",
       "3  806  HD10-01  2181007806  1.043803e+07   \n",
       "\n",
       "                                            geometry  \n",
       "0  POLYGON ((-105.20685 40.07118, -105.20677 40.0...  \n",
       "1  POLYGON ((-105.20846 40.08892, -105.20752 40.0...  \n",
       "2  POLYGON ((-105.26511 40.0547, -105.26519 40.05...  \n",
       "3  POLYGON ((-105.27273 40.05464, -105.27273 40.0...  "
      ]
     },
     "execution_count": 39,
     "metadata": {},
     "output_type": "execute_result"
    }
   ],
   "source": [
    "precincts.head(4)"
   ]
  },
  {
   "cell_type": "code",
   "execution_count": 38,
   "id": "22a2cd5e-a8dc-4751-a574-519d456cfb95",
   "metadata": {
    "tags": []
   },
   "outputs": [],
   "source": [
    "# precincts['pct'] = precincts.PRECINCT.str[-3:]"
   ]
  },
  {
   "cell_type": "code",
   "execution_count": 39,
   "id": "a1532dfd-edc9-4822-9271-f259d452cf99",
   "metadata": {},
   "outputs": [],
   "source": [
    "# precincts.set_index('pct', inplace=True)"
   ]
  },
  {
   "cell_type": "code",
   "execution_count": null,
   "id": "33582887-16b2-4305-906f-b25df25e6b9f",
   "metadata": {},
   "outputs": [],
   "source": [
    "# precincts.head()"
   ]
  },
  {
   "cell_type": "code",
   "execution_count": 40,
   "id": "f99924a6-99c1-44d4-a5f7-3abe40af727c",
   "metadata": {
    "tags": []
   },
   "outputs": [],
   "source": [
    "precincts = precincts[['DISTRICT','PCT','geometry']]\n",
    "precincts.rename(columns={'DISTRICT':'precinct_name','PCT': 'precinct'}, inplace=True)"
   ]
  },
  {
   "cell_type": "code",
   "execution_count": 41,
   "id": "f0850367-9825-4ec4-bd0c-e9daeece74a0",
   "metadata": {},
   "outputs": [
    {
     "data": {
      "text/html": [
       "<div>\n",
       "<style scoped>\n",
       "    .dataframe tbody tr th:only-of-type {\n",
       "        vertical-align: middle;\n",
       "    }\n",
       "\n",
       "    .dataframe tbody tr th {\n",
       "        vertical-align: top;\n",
       "    }\n",
       "\n",
       "    .dataframe thead th {\n",
       "        text-align: right;\n",
       "    }\n",
       "</style>\n",
       "<table border=\"1\" class=\"dataframe\">\n",
       "  <thead>\n",
       "    <tr style=\"text-align: right;\">\n",
       "      <th></th>\n",
       "      <th>precinct_name</th>\n",
       "      <th>precinct</th>\n",
       "      <th>geometry</th>\n",
       "    </tr>\n",
       "  </thead>\n",
       "  <tbody>\n",
       "    <tr>\n",
       "      <th>0</th>\n",
       "      <td>2181007801</td>\n",
       "      <td>801</td>\n",
       "      <td>POLYGON ((-105.20685 40.07118, -105.20677 40.0...</td>\n",
       "    </tr>\n",
       "    <tr>\n",
       "      <th>1</th>\n",
       "      <td>2181007802</td>\n",
       "      <td>802</td>\n",
       "      <td>POLYGON ((-105.20846 40.08892, -105.20752 40.0...</td>\n",
       "    </tr>\n",
       "    <tr>\n",
       "      <th>2</th>\n",
       "      <td>2181007803</td>\n",
       "      <td>803</td>\n",
       "      <td>POLYGON ((-105.26511 40.0547, -105.26519 40.05...</td>\n",
       "    </tr>\n",
       "    <tr>\n",
       "      <th>3</th>\n",
       "      <td>2181007806</td>\n",
       "      <td>806</td>\n",
       "      <td>POLYGON ((-105.27273 40.05464, -105.27273 40.0...</td>\n",
       "    </tr>\n",
       "  </tbody>\n",
       "</table>\n",
       "</div>"
      ],
      "text/plain": [
       "  precinct_name  precinct                                           geometry\n",
       "0    2181007801       801  POLYGON ((-105.20685 40.07118, -105.20677 40.0...\n",
       "1    2181007802       802  POLYGON ((-105.20846 40.08892, -105.20752 40.0...\n",
       "2    2181007803       803  POLYGON ((-105.26511 40.0547, -105.26519 40.05...\n",
       "3    2181007806       806  POLYGON ((-105.27273 40.05464, -105.27273 40.0..."
      ]
     },
     "execution_count": 41,
     "metadata": {},
     "output_type": "execute_result"
    }
   ],
   "source": [
    "precincts.head(4)"
   ]
  },
  {
   "cell_type": "code",
   "execution_count": 48,
   "id": "8daef345-0aab-4487-b469-e72fd6dbc807",
   "metadata": {},
   "outputs": [
    {
     "data": {
      "text/html": [
       "<div>\n",
       "<style scoped>\n",
       "    .dataframe tbody tr th:only-of-type {\n",
       "        vertical-align: middle;\n",
       "    }\n",
       "\n",
       "    .dataframe tbody tr th {\n",
       "        vertical-align: top;\n",
       "    }\n",
       "\n",
       "    .dataframe thead th {\n",
       "        text-align: right;\n",
       "    }\n",
       "</style>\n",
       "<table border=\"1\" class=\"dataframe\">\n",
       "  <thead>\n",
       "    <tr style=\"text-align: right;\">\n",
       "      <th></th>\n",
       "      <th>precinct</th>\n",
       "      <th>geometry</th>\n",
       "    </tr>\n",
       "    <tr>\n",
       "      <th>precinct_name</th>\n",
       "      <th></th>\n",
       "      <th></th>\n",
       "    </tr>\n",
       "  </thead>\n",
       "  <tbody>\n",
       "    <tr>\n",
       "      <th>2181007801</th>\n",
       "      <td>801</td>\n",
       "      <td>POLYGON ((-105.20685 40.07118, -105.20677 40.0...</td>\n",
       "    </tr>\n",
       "    <tr>\n",
       "      <th>2181007802</th>\n",
       "      <td>802</td>\n",
       "      <td>POLYGON ((-105.20846 40.08892, -105.20752 40.0...</td>\n",
       "    </tr>\n",
       "    <tr>\n",
       "      <th>2181007803</th>\n",
       "      <td>803</td>\n",
       "      <td>POLYGON ((-105.26511 40.0547, -105.26519 40.05...</td>\n",
       "    </tr>\n",
       "    <tr>\n",
       "      <th>2181007806</th>\n",
       "      <td>806</td>\n",
       "      <td>POLYGON ((-105.27273 40.05464, -105.27273 40.0...</td>\n",
       "    </tr>\n",
       "  </tbody>\n",
       "</table>\n",
       "</div>"
      ],
      "text/plain": [
       "              precinct                                           geometry\n",
       "precinct_name                                                            \n",
       "2181007801         801  POLYGON ((-105.20685 40.07118, -105.20677 40.0...\n",
       "2181007802         802  POLYGON ((-105.20846 40.08892, -105.20752 40.0...\n",
       "2181007803         803  POLYGON ((-105.26511 40.0547, -105.26519 40.05...\n",
       "2181007806         806  POLYGON ((-105.27273 40.05464, -105.27273 40.0..."
      ]
     },
     "execution_count": 48,
     "metadata": {},
     "output_type": "execute_result"
    }
   ],
   "source": [
    "precincts = precincts.astype({'precinct':'str'}, copy=True)\n",
    "precincts['precinct'] = precincts['precinct'].str.zfill(3)\n",
    "# df['ID'] = df['ID'].str.zfill(15)\n",
    "precinct_names = precincts.set_index('precinct_name')\n",
    "\n",
    "precinct_names.head(4)"
   ]
  },
  {
   "cell_type": "code",
   "execution_count": 49,
   "id": "f858538e-2ee6-4b60-b076-db35bb0a649d",
   "metadata": {},
   "outputs": [
    {
     "name": "stdout",
     "output_type": "stream",
     "text": [
      "<class 'geopandas.geodataframe.GeoDataFrame'>\n",
      "Index: 194 entries, 2181007801 to 2154907914\n",
      "Data columns (total 2 columns):\n",
      " #   Column    Non-Null Count  Dtype   \n",
      "---  ------    --------------  -----   \n",
      " 0   precinct  194 non-null    object  \n",
      " 1   geometry  194 non-null    geometry\n",
      "dtypes: geometry(1), object(1)\n",
      "memory usage: 4.5+ KB\n"
     ]
    }
   ],
   "source": [
    "precinct_names.info()"
   ]
  },
  {
   "cell_type": "code",
   "execution_count": 52,
   "id": "41c92261-f416-4e81-aee0-3accb7323a1a",
   "metadata": {},
   "outputs": [
    {
     "data": {
      "text/html": [
       "<div>\n",
       "<style scoped>\n",
       "    .dataframe tbody tr th:only-of-type {\n",
       "        vertical-align: middle;\n",
       "    }\n",
       "\n",
       "    .dataframe tbody tr th {\n",
       "        vertical-align: top;\n",
       "    }\n",
       "\n",
       "    .dataframe thead th {\n",
       "        text-align: right;\n",
       "    }\n",
       "</style>\n",
       "<table border=\"1\" class=\"dataframe\">\n",
       "  <thead>\n",
       "    <tr style=\"text-align: right;\">\n",
       "      <th></th>\n",
       "      <th>precinct</th>\n",
       "      <th>geometry</th>\n",
       "    </tr>\n",
       "    <tr>\n",
       "      <th>precinct_name</th>\n",
       "      <th></th>\n",
       "      <th></th>\n",
       "    </tr>\n",
       "  </thead>\n",
       "  <tbody>\n",
       "    <tr>\n",
       "      <th>7171207001</th>\n",
       "      <td>001</td>\n",
       "      <td>POLYGON ((-105.10969 39.95606, -105.10955 39.9...</td>\n",
       "    </tr>\n",
       "    <tr>\n",
       "      <th>2151907002</th>\n",
       "      <td>002</td>\n",
       "      <td>POLYGON ((-105.05519 40.19115, -105.05521 40.1...</td>\n",
       "    </tr>\n",
       "    <tr>\n",
       "      <th>2184907003</th>\n",
       "      <td>003</td>\n",
       "      <td>POLYGON ((-105.1692 39.9287, -105.1692 39.9286...</td>\n",
       "    </tr>\n",
       "    <tr>\n",
       "      <th>2151207004</th>\n",
       "      <td>004</td>\n",
       "      <td>POLYGON ((-105.18469 39.96263, -105.18468 39.9...</td>\n",
       "    </tr>\n",
       "    <tr>\n",
       "      <th>2181207100</th>\n",
       "      <td>100</td>\n",
       "      <td>POLYGON ((-105.15439 39.92921, -105.15227 39.9...</td>\n",
       "    </tr>\n",
       "  </tbody>\n",
       "</table>\n",
       "</div>"
      ],
      "text/plain": [
       "              precinct                                           geometry\n",
       "precinct_name                                                            \n",
       "7171207001         001  POLYGON ((-105.10969 39.95606, -105.10955 39.9...\n",
       "2151907002         002  POLYGON ((-105.05519 40.19115, -105.05521 40.1...\n",
       "2184907003         003  POLYGON ((-105.1692 39.9287, -105.1692 39.9286...\n",
       "2151207004         004  POLYGON ((-105.18469 39.96263, -105.18468 39.9...\n",
       "2181207100         100  POLYGON ((-105.15439 39.92921, -105.15227 39.9..."
      ]
     },
     "execution_count": 52,
     "metadata": {},
     "output_type": "execute_result"
    }
   ],
   "source": [
    "precinct_names.sort_values('precinct').head()"
   ]
  },
  {
   "cell_type": "code",
   "execution_count": 46,
   "id": "77e640a5-729d-485f-b6c6-d259bc73bb7b",
   "metadata": {},
   "outputs": [],
   "source": [
    "precincts.to_file('output/pct_boulder.geojson', driver='GeoJSON')"
   ]
  },
  {
   "cell_type": "markdown",
   "id": "728d6c8c-cf19-4b5d-be6d-a6e2b4b45db2",
   "metadata": {},
   "source": [
    "## Create Field Team Area Boundary Files\n",
    "- Read in Field Team Area-Precinct lists\n",
    "- Create Area boundary files\n",
    "- Save Area GeoJSON files"
   ]
  },
  {
   "cell_type": "code",
   "execution_count": null,
   "id": "6d7d2349-3b4d-441f-83d2-805036352725",
   "metadata": {},
   "outputs": [],
   "source": [
    "pct_area = pd.read_csv('data/field/Precinct-Area-ODB-20220824.csv', dtype='str')\n",
    "pct_area.drop(columns=['Area_oldStyle', 'Area_ODB'], inplace=True)\n",
    "pct_area.info()"
   ]
  },
  {
   "cell_type": "code",
   "execution_count": null,
   "id": "bc511bee-4bfa-476c-86a3-2fa25bda35fd",
   "metadata": {},
   "outputs": [],
   "source": [
    "pct_area.rename(columns={'Precinct_District': 'district', 'Precinct':'precinct'})"
   ]
  },
  {
   "cell_type": "code",
   "execution_count": null,
   "id": "f8a426cb-9c7e-4f8c-91a7-fe74dc485b77",
   "metadata": {},
   "outputs": [],
   "source": [
    "pct_area.head()"
   ]
  },
  {
   "cell_type": "code",
   "execution_count": 49,
   "id": "4788753f-f468-4a46-8c00-4a5868a29f62",
   "metadata": {
    "tags": []
   },
   "outputs": [],
   "source": [
    "pct_area.set_index('Precinct', inplace=True)"
   ]
  },
  {
   "cell_type": "code",
   "execution_count": null,
   "id": "a3b2de59-f822-4a16-9a67-2bf10c8285db",
   "metadata": {},
   "outputs": [],
   "source": [
    "pct_area.sort_index()"
   ]
  },
  {
   "cell_type": "code",
   "execution_count": 51,
   "id": "2a30fb30-2b57-4a85-88cd-eca032a9e612",
   "metadata": {},
   "outputs": [],
   "source": [
    "pct_area.to_csv('data/field/precincts_2022_09_12.csv')"
   ]
  },
  {
   "cell_type": "markdown",
   "id": "63c11fdb-670f-40bc-a7cf-49905ae2777d",
   "metadata": {},
   "source": [
    "### Add Area columns to precincts GeoDataFrame\n",
    "- new columns\n",
    "    - Area_Short\n",
    "    - Area_Long"
   ]
  },
  {
   "cell_type": "code",
   "execution_count": 51,
   "id": "99003fb1-270c-4a74-8125-5d4e870026e6",
   "metadata": {},
   "outputs": [],
   "source": [
    "pcts = pd.concat([precincts, pct_area], axis=1)"
   ]
  },
  {
   "cell_type": "code",
   "execution_count": 52,
   "id": "d2f0c92c-b7ac-43f7-aaa8-500dde34a43e",
   "metadata": {},
   "outputs": [],
   "source": [
    "pcts.drop(columns=['Precinct_District'], inplace=True)"
   ]
  },
  {
   "cell_type": "markdown",
   "id": "8fdd5977-ebf0-4688-aa1c-0bd9200b2498",
   "metadata": {},
   "source": [
    "### Check precinct data in merged dataframe\n",
    "- Number of precincts = 193\n",
    "- Number of Areas = 28\n",
    "- Review Area_Short and Area_Long columns\n",
    "- Check that index, DISTRICT and precinct columns agree\n",
    "- Check # of precincts in each Area"
   ]
  },
  {
   "cell_type": "code",
   "execution_count": null,
   "id": "1f613587-2d6c-4df5-8de8-f7e3ae4575e8",
   "metadata": {},
   "outputs": [],
   "source": [
    "pcts.info()"
   ]
  },
  {
   "cell_type": "code",
   "execution_count": null,
   "id": "e24901fb-d4de-46b9-af12-c2158303b8f8",
   "metadata": {},
   "outputs": [],
   "source": [
    "pcts.sort_index().head()"
   ]
  },
  {
   "cell_type": "code",
   "execution_count": null,
   "id": "124b9de4-e3ef-48f6-812c-574d7793a08a",
   "metadata": {},
   "outputs": [],
   "source": [
    "pcts.sort_values('area_short')"
   ]
  },
  {
   "cell_type": "code",
   "execution_count": null,
   "id": "c7cfe64e-a840-4085-a562-b9d753f60567",
   "metadata": {},
   "outputs": [],
   "source": [
    "pcts.area_short.nunique()"
   ]
  },
  {
   "cell_type": "code",
   "execution_count": null,
   "id": "fb26d6f6-f5e8-4c89-9818-d08430bec56a",
   "metadata": {},
   "outputs": [],
   "source": [
    "pcts.area_long.nunique()"
   ]
  },
  {
   "cell_type": "code",
   "execution_count": null,
   "id": "7ec34df5-c0cd-430b-acdd-41f02130716d",
   "metadata": {},
   "outputs": [],
   "source": [
    "pcts.area_long.unique()"
   ]
  },
  {
   "cell_type": "code",
   "execution_count": null,
   "id": "59186a7b-6c33-4d73-84fc-e7c458991170",
   "metadata": {},
   "outputs": [],
   "source": [
    "areas = pcts.area_short.unique()\n",
    "areas"
   ]
  },
  {
   "cell_type": "code",
   "execution_count": null,
   "id": "e2fcad2c-e2aa-45f9-8231-d7658f87307b",
   "metadata": {},
   "outputs": [],
   "source": [
    "pcts.value_counts('area_short').sort_index()"
   ]
  },
  {
   "cell_type": "markdown",
   "id": "8901a53c-ea72-4594-81ad-a482a813bcbf",
   "metadata": {},
   "source": [
    "### Export Precinct file with Area names"
   ]
  },
  {
   "cell_type": "code",
   "execution_count": null,
   "id": "b5ca9c91-c568-43b4-8489-853d3bd2fa31",
   "metadata": {},
   "outputs": [],
   "source": [
    "pcts.to_file('output/pct_area_boulder.geojson', driver='GeoJSON')"
   ]
  },
  {
   "cell_type": "markdown",
   "id": "0d801024-b3fe-445e-b051-9249a00b616e",
   "metadata": {
    "tags": []
   },
   "source": [
    "### Create Area Boundaries\n",
    "- use .dissolve() to aggregate precincts into Areas and return Area boundary geometry"
   ]
  },
  {
   "cell_type": "code",
   "execution_count": 64,
   "id": "8e4912df-06a5-496f-8d08-2400d25ccb5e",
   "metadata": {},
   "outputs": [],
   "source": [
    "area_groups = pcts.groupby('area_short')"
   ]
  },
  {
   "cell_type": "code",
   "execution_count": null,
   "id": "b4d01e79-0da2-4409-8af7-c344398c2f73",
   "metadata": {},
   "outputs": [],
   "source": [
    "area_groups.groups"
   ]
  },
  {
   "cell_type": "code",
   "execution_count": null,
   "id": "ac006032-631e-4c8a-84be-921e9752bab1",
   "metadata": {},
   "outputs": [],
   "source": [
    "# create GeoDataFrame using a single Area\n",
    "# this sets all column names and data types correctly\n",
    "area_gdf = gpd.GeoDataFrame(area_groups.get_group('BO-01').dissolve())\n",
    "area_gdf"
   ]
  },
  {
   "cell_type": "code",
   "execution_count": 67,
   "id": "ea9393fd-a1fe-4a13-9770-f07b18c7960c",
   "metadata": {
    "tags": []
   },
   "outputs": [],
   "source": [
    "# Create boundary for each Area from outline of precincts in Area\n",
    "for name, group in area_groups:\n",
    "    area_gdf = pd.concat([area_gdf, group.dissolve()], ignore_index=True)   "
   ]
  },
  {
   "cell_type": "code",
   "execution_count": null,
   "id": "058b30bc-50e2-40fa-875b-ac5eaa366108",
   "metadata": {},
   "outputs": [],
   "source": [
    "area_gdf.info()"
   ]
  },
  {
   "cell_type": "code",
   "execution_count": null,
   "id": "dc7e3f5a-fcd1-4fb1-b967-7f185a71bc14",
   "metadata": {},
   "outputs": [],
   "source": [
    "area_gdf"
   ]
  },
  {
   "cell_type": "code",
   "execution_count": 70,
   "id": "1053ccef-48d2-4aca-b5c2-bf1d50759ad2",
   "metadata": {},
   "outputs": [],
   "source": [
    "# Delete duplicate 1st row\n",
    "area_gdf.drop(0, inplace=True)"
   ]
  },
  {
   "cell_type": "code",
   "execution_count": null,
   "id": "abfd9f94-19dd-44bf-b911-96507aac5c2f",
   "metadata": {},
   "outputs": [],
   "source": [
    "area_gdf = area_gdf[['area_short', 'area_long', 'geometry']]\n",
    "area_gdf"
   ]
  },
  {
   "cell_type": "code",
   "execution_count": null,
   "id": "ac839477-7798-4644-aafc-1a37fd14c162",
   "metadata": {},
   "outputs": [],
   "source": [
    "area_gdf.plot()"
   ]
  },
  {
   "cell_type": "code",
   "execution_count": 74,
   "id": "4b03e4db-883a-4ec4-aff7-89767934052f",
   "metadata": {},
   "outputs": [],
   "source": [
    "# area_gdf.explore()"
   ]
  },
  {
   "cell_type": "code",
   "execution_count": null,
   "id": "c272611c-4e67-481b-b31f-b2b70f6a45e3",
   "metadata": {},
   "outputs": [],
   "source": [
    "area_gdf.to_file('output/areas.geojson', driver='GeoJSON')"
   ]
  },
  {
   "cell_type": "code",
   "execution_count": null,
   "id": "ef665427-db69-4655-a6dd-9878f9534e75",
   "metadata": {},
   "outputs": [],
   "source": [
    "area_test = gpd.read_file('output/areas.geojson', driver='GeoJSON')\n",
    "area_test.info()"
   ]
  },
  {
   "cell_type": "code",
   "execution_count": null,
   "id": "21d85e91-815c-42cb-b6b0-1bbdc66f5238",
   "metadata": {},
   "outputs": [],
   "source": [
    "area_test[area_test.area_short == 'LM-04'].plot()"
   ]
  },
  {
   "cell_type": "markdown",
   "id": "82374aeb-c767-4dba-94c0-3de3ce8fdf42",
   "metadata": {
    "jp-MarkdownHeadingCollapsed": true,
    "tags": []
   },
   "source": [
    "## Transform data in dataframes"
   ]
  },
  {
   "cell_type": "markdown",
   "id": "426919e3-d829-4d23-8766-38705fab26ac",
   "metadata": {},
   "source": [
    "## Save transformed data in map format files"
   ]
  },
  {
   "cell_type": "code",
   "execution_count": null,
   "id": "6cd5d5f9-8a76-4769-80fa-f740f6e6bd5f",
   "metadata": {},
   "outputs": [],
   "source": []
  },
  {
   "cell_type": "code",
   "execution_count": null,
   "id": "0d5d2c62-5bac-4197-9284-5d015ffa8b49",
   "metadata": {},
   "outputs": [],
   "source": []
  }
 ],
 "metadata": {
  "kernelspec": {
   "display_name": "geojupy",
   "language": "python",
   "name": "python3"
  },
  "language_info": {
   "codemirror_mode": {
    "name": "ipython",
    "version": 3
   },
   "file_extension": ".py",
   "mimetype": "text/x-python",
   "name": "python",
   "nbconvert_exporter": "python",
   "pygments_lexer": "ipython3",
   "version": "3.12.5"
  }
 },
 "nbformat": 4,
 "nbformat_minor": 5
}
